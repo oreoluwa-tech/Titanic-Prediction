{
 "cells": [
  {
   "cell_type": "code",
   "execution_count": 1,
   "id": "e01df730",
   "metadata": {
    "_cell_guid": "b1076dfc-b9ad-4769-8c92-a6c4dae69d19",
    "_uuid": "8f2839f25d086af736a60e9eeb907d3b93b6e0e5",
    "execution": {
     "iopub.execute_input": "2021-07-29T18:26:00.975778Z",
     "iopub.status.busy": "2021-07-29T18:26:00.971723Z",
     "iopub.status.idle": "2021-07-29T18:26:02.603293Z",
     "shell.execute_reply": "2021-07-29T18:26:02.602233Z",
     "shell.execute_reply.started": "2021-07-29T18:15:34.152674Z"
    },
    "papermill": {
     "duration": 1.694859,
     "end_time": "2021-07-29T18:26:02.603558",
     "exception": false,
     "start_time": "2021-07-29T18:26:00.908699",
     "status": "completed"
    },
    "tags": []
   },
   "outputs": [
    {
     "name": "stdout",
     "output_type": "stream",
     "text": [
      "/kaggle/input/titanic/train.csv\n",
      "/kaggle/input/titanic/test.csv\n",
      "/kaggle/input/titanic/gender_submission.csv\n"
     ]
    }
   ],
   "source": [
    "# This Python 3 environment comes with many helpful analytics libraries installed\n",
    "# It is defined by the kaggle/python Docker image: https://github.com/kaggle/docker-python\n",
    "# For example, here's several helpful packages to load\n",
    "\n",
    "import numpy as np # linear algebra\n",
    "import pandas as pd # data processing, CSV file I/O (e.g. pd.read_csv)\n",
    "import matplotlib.pyplot as plt\n",
    "%matplotlib inline\n",
    "import seaborn as sns\n",
    "from sklearn .linear_model import LogisticRegression\n",
    "from sklearn.model_selection import train_test_split\n",
    "from sklearn.tree import DecisionTreeClassifier\n",
    "from sklearn.ensemble import RandomForestClassifier\n",
    "from sklearn.neighbors import KNeighborsClassifier\n",
    "from sklearn.model_selection import cross_val_score\n",
    "import warnings\n",
    "# Input data files are available in the read-only \"../input/\" directory\n",
    "# For example, running this (by clicking run or pressing Shift+Enter) will list all files under the input directory\n",
    "\n",
    "import os\n",
    "for dirname, _, filenames in os.walk('/kaggle/input'):\n",
    "    for filename in filenames:\n",
    "        print(os.path.join(dirname, filename))\n",
    "\n",
    "# You can write up to 20GB to the current directory (/kaggle/working/) that gets preserved as output when you create a version using \"Save & Run All\" \n",
    "# You can also write temporary files to /kaggle/temp/, but they won't be saved outside of the current session"
   ]
  },
  {
   "cell_type": "code",
   "execution_count": 2,
   "id": "82938a76",
   "metadata": {
    "execution": {
     "iopub.execute_input": "2021-07-29T18:26:02.718325Z",
     "iopub.status.busy": "2021-07-29T18:26:02.716808Z",
     "iopub.status.idle": "2021-07-29T18:26:02.720297Z",
     "shell.execute_reply": "2021-07-29T18:26:02.719751Z",
     "shell.execute_reply.started": "2021-07-29T18:15:34.689631Z"
    },
    "papermill": {
     "duration": 0.062283,
     "end_time": "2021-07-29T18:26:02.720444",
     "exception": false,
     "start_time": "2021-07-29T18:26:02.658161",
     "status": "completed"
    },
    "tags": []
   },
   "outputs": [],
   "source": [
    "warnings.filterwarnings('ignore')\n"
   ]
  },
  {
   "cell_type": "code",
   "execution_count": 3,
   "id": "ccb126ae",
   "metadata": {
    "execution": {
     "iopub.execute_input": "2021-07-29T18:26:02.823590Z",
     "iopub.status.busy": "2021-07-29T18:26:02.822623Z",
     "iopub.status.idle": "2021-07-29T18:26:02.872840Z",
     "shell.execute_reply": "2021-07-29T18:26:02.873435Z",
     "shell.execute_reply.started": "2021-07-29T18:15:34.694922Z"
    },
    "papermill": {
     "duration": 0.104645,
     "end_time": "2021-07-29T18:26:02.873704",
     "exception": false,
     "start_time": "2021-07-29T18:26:02.769059",
     "status": "completed"
    },
    "tags": []
   },
   "outputs": [
    {
     "data": {
      "text/html": [
       "<div>\n",
       "<style scoped>\n",
       "    .dataframe tbody tr th:only-of-type {\n",
       "        vertical-align: middle;\n",
       "    }\n",
       "\n",
       "    .dataframe tbody tr th {\n",
       "        vertical-align: top;\n",
       "    }\n",
       "\n",
       "    .dataframe thead th {\n",
       "        text-align: right;\n",
       "    }\n",
       "</style>\n",
       "<table border=\"1\" class=\"dataframe\">\n",
       "  <thead>\n",
       "    <tr style=\"text-align: right;\">\n",
       "      <th></th>\n",
       "      <th>PassengerId</th>\n",
       "      <th>Survived</th>\n",
       "      <th>Pclass</th>\n",
       "      <th>Name</th>\n",
       "      <th>Sex</th>\n",
       "      <th>Age</th>\n",
       "      <th>SibSp</th>\n",
       "      <th>Parch</th>\n",
       "      <th>Ticket</th>\n",
       "      <th>Fare</th>\n",
       "      <th>Cabin</th>\n",
       "      <th>Embarked</th>\n",
       "    </tr>\n",
       "  </thead>\n",
       "  <tbody>\n",
       "    <tr>\n",
       "      <th>0</th>\n",
       "      <td>1</td>\n",
       "      <td>0</td>\n",
       "      <td>3</td>\n",
       "      <td>Braund, Mr. Owen Harris</td>\n",
       "      <td>male</td>\n",
       "      <td>22.0</td>\n",
       "      <td>1</td>\n",
       "      <td>0</td>\n",
       "      <td>A/5 21171</td>\n",
       "      <td>7.2500</td>\n",
       "      <td>NaN</td>\n",
       "      <td>S</td>\n",
       "    </tr>\n",
       "    <tr>\n",
       "      <th>1</th>\n",
       "      <td>2</td>\n",
       "      <td>1</td>\n",
       "      <td>1</td>\n",
       "      <td>Cumings, Mrs. John Bradley (Florence Briggs Th...</td>\n",
       "      <td>female</td>\n",
       "      <td>38.0</td>\n",
       "      <td>1</td>\n",
       "      <td>0</td>\n",
       "      <td>PC 17599</td>\n",
       "      <td>71.2833</td>\n",
       "      <td>C85</td>\n",
       "      <td>C</td>\n",
       "    </tr>\n",
       "    <tr>\n",
       "      <th>2</th>\n",
       "      <td>3</td>\n",
       "      <td>1</td>\n",
       "      <td>3</td>\n",
       "      <td>Heikkinen, Miss. Laina</td>\n",
       "      <td>female</td>\n",
       "      <td>26.0</td>\n",
       "      <td>0</td>\n",
       "      <td>0</td>\n",
       "      <td>STON/O2. 3101282</td>\n",
       "      <td>7.9250</td>\n",
       "      <td>NaN</td>\n",
       "      <td>S</td>\n",
       "    </tr>\n",
       "    <tr>\n",
       "      <th>3</th>\n",
       "      <td>4</td>\n",
       "      <td>1</td>\n",
       "      <td>1</td>\n",
       "      <td>Futrelle, Mrs. Jacques Heath (Lily May Peel)</td>\n",
       "      <td>female</td>\n",
       "      <td>35.0</td>\n",
       "      <td>1</td>\n",
       "      <td>0</td>\n",
       "      <td>113803</td>\n",
       "      <td>53.1000</td>\n",
       "      <td>C123</td>\n",
       "      <td>S</td>\n",
       "    </tr>\n",
       "    <tr>\n",
       "      <th>4</th>\n",
       "      <td>5</td>\n",
       "      <td>0</td>\n",
       "      <td>3</td>\n",
       "      <td>Allen, Mr. William Henry</td>\n",
       "      <td>male</td>\n",
       "      <td>35.0</td>\n",
       "      <td>0</td>\n",
       "      <td>0</td>\n",
       "      <td>373450</td>\n",
       "      <td>8.0500</td>\n",
       "      <td>NaN</td>\n",
       "      <td>S</td>\n",
       "    </tr>\n",
       "  </tbody>\n",
       "</table>\n",
       "</div>"
      ],
      "text/plain": [
       "   PassengerId  Survived  Pclass  \\\n",
       "0            1         0       3   \n",
       "1            2         1       1   \n",
       "2            3         1       3   \n",
       "3            4         1       1   \n",
       "4            5         0       3   \n",
       "\n",
       "                                                Name     Sex   Age  SibSp  \\\n",
       "0                            Braund, Mr. Owen Harris    male  22.0      1   \n",
       "1  Cumings, Mrs. John Bradley (Florence Briggs Th...  female  38.0      1   \n",
       "2                             Heikkinen, Miss. Laina  female  26.0      0   \n",
       "3       Futrelle, Mrs. Jacques Heath (Lily May Peel)  female  35.0      1   \n",
       "4                           Allen, Mr. William Henry    male  35.0      0   \n",
       "\n",
       "   Parch            Ticket     Fare Cabin Embarked  \n",
       "0      0         A/5 21171   7.2500   NaN        S  \n",
       "1      0          PC 17599  71.2833   C85        C  \n",
       "2      0  STON/O2. 3101282   7.9250   NaN        S  \n",
       "3      0            113803  53.1000  C123        S  \n",
       "4      0            373450   8.0500   NaN        S  "
      ]
     },
     "execution_count": 3,
     "metadata": {},
     "output_type": "execute_result"
    }
   ],
   "source": [
    "train_data = pd.read_csv('../input/titanic/train.csv')\n",
    "train_data.head()\n"
   ]
  },
  {
   "cell_type": "code",
   "execution_count": 4,
   "id": "6e5fd3d0",
   "metadata": {
    "execution": {
     "iopub.execute_input": "2021-07-29T18:26:02.973664Z",
     "iopub.status.busy": "2021-07-29T18:26:02.972763Z",
     "iopub.status.idle": "2021-07-29T18:26:02.999313Z",
     "shell.execute_reply": "2021-07-29T18:26:02.999798Z",
     "shell.execute_reply.started": "2021-07-29T18:15:34.736872Z"
    },
    "papermill": {
     "duration": 0.078786,
     "end_time": "2021-07-29T18:26:03.000016",
     "exception": false,
     "start_time": "2021-07-29T18:26:02.921230",
     "status": "completed"
    },
    "tags": []
   },
   "outputs": [
    {
     "data": {
      "text/html": [
       "<div>\n",
       "<style scoped>\n",
       "    .dataframe tbody tr th:only-of-type {\n",
       "        vertical-align: middle;\n",
       "    }\n",
       "\n",
       "    .dataframe tbody tr th {\n",
       "        vertical-align: top;\n",
       "    }\n",
       "\n",
       "    .dataframe thead th {\n",
       "        text-align: right;\n",
       "    }\n",
       "</style>\n",
       "<table border=\"1\" class=\"dataframe\">\n",
       "  <thead>\n",
       "    <tr style=\"text-align: right;\">\n",
       "      <th></th>\n",
       "      <th>PassengerId</th>\n",
       "      <th>Pclass</th>\n",
       "      <th>Name</th>\n",
       "      <th>Sex</th>\n",
       "      <th>Age</th>\n",
       "      <th>SibSp</th>\n",
       "      <th>Parch</th>\n",
       "      <th>Ticket</th>\n",
       "      <th>Fare</th>\n",
       "      <th>Cabin</th>\n",
       "      <th>Embarked</th>\n",
       "    </tr>\n",
       "  </thead>\n",
       "  <tbody>\n",
       "    <tr>\n",
       "      <th>0</th>\n",
       "      <td>892</td>\n",
       "      <td>3</td>\n",
       "      <td>Kelly, Mr. James</td>\n",
       "      <td>male</td>\n",
       "      <td>34.5</td>\n",
       "      <td>0</td>\n",
       "      <td>0</td>\n",
       "      <td>330911</td>\n",
       "      <td>7.8292</td>\n",
       "      <td>NaN</td>\n",
       "      <td>Q</td>\n",
       "    </tr>\n",
       "    <tr>\n",
       "      <th>1</th>\n",
       "      <td>893</td>\n",
       "      <td>3</td>\n",
       "      <td>Wilkes, Mrs. James (Ellen Needs)</td>\n",
       "      <td>female</td>\n",
       "      <td>47.0</td>\n",
       "      <td>1</td>\n",
       "      <td>0</td>\n",
       "      <td>363272</td>\n",
       "      <td>7.0000</td>\n",
       "      <td>NaN</td>\n",
       "      <td>S</td>\n",
       "    </tr>\n",
       "    <tr>\n",
       "      <th>2</th>\n",
       "      <td>894</td>\n",
       "      <td>2</td>\n",
       "      <td>Myles, Mr. Thomas Francis</td>\n",
       "      <td>male</td>\n",
       "      <td>62.0</td>\n",
       "      <td>0</td>\n",
       "      <td>0</td>\n",
       "      <td>240276</td>\n",
       "      <td>9.6875</td>\n",
       "      <td>NaN</td>\n",
       "      <td>Q</td>\n",
       "    </tr>\n",
       "    <tr>\n",
       "      <th>3</th>\n",
       "      <td>895</td>\n",
       "      <td>3</td>\n",
       "      <td>Wirz, Mr. Albert</td>\n",
       "      <td>male</td>\n",
       "      <td>27.0</td>\n",
       "      <td>0</td>\n",
       "      <td>0</td>\n",
       "      <td>315154</td>\n",
       "      <td>8.6625</td>\n",
       "      <td>NaN</td>\n",
       "      <td>S</td>\n",
       "    </tr>\n",
       "    <tr>\n",
       "      <th>4</th>\n",
       "      <td>896</td>\n",
       "      <td>3</td>\n",
       "      <td>Hirvonen, Mrs. Alexander (Helga E Lindqvist)</td>\n",
       "      <td>female</td>\n",
       "      <td>22.0</td>\n",
       "      <td>1</td>\n",
       "      <td>1</td>\n",
       "      <td>3101298</td>\n",
       "      <td>12.2875</td>\n",
       "      <td>NaN</td>\n",
       "      <td>S</td>\n",
       "    </tr>\n",
       "  </tbody>\n",
       "</table>\n",
       "</div>"
      ],
      "text/plain": [
       "   PassengerId  Pclass                                          Name     Sex  \\\n",
       "0          892       3                              Kelly, Mr. James    male   \n",
       "1          893       3              Wilkes, Mrs. James (Ellen Needs)  female   \n",
       "2          894       2                     Myles, Mr. Thomas Francis    male   \n",
       "3          895       3                              Wirz, Mr. Albert    male   \n",
       "4          896       3  Hirvonen, Mrs. Alexander (Helga E Lindqvist)  female   \n",
       "\n",
       "    Age  SibSp  Parch   Ticket     Fare Cabin Embarked  \n",
       "0  34.5      0      0   330911   7.8292   NaN        Q  \n",
       "1  47.0      1      0   363272   7.0000   NaN        S  \n",
       "2  62.0      0      0   240276   9.6875   NaN        Q  \n",
       "3  27.0      0      0   315154   8.6625   NaN        S  \n",
       "4  22.0      1      1  3101298  12.2875   NaN        S  "
      ]
     },
     "execution_count": 4,
     "metadata": {},
     "output_type": "execute_result"
    }
   ],
   "source": [
    "testData_data = pd.read_csv('../input/titanic/test.csv')\n",
    "testData_data.head()"
   ]
  },
  {
   "cell_type": "code",
   "execution_count": 5,
   "id": "08a67d65",
   "metadata": {
    "execution": {
     "iopub.execute_input": "2021-07-29T18:26:03.100591Z",
     "iopub.status.busy": "2021-07-29T18:26:03.099856Z",
     "iopub.status.idle": "2021-07-29T18:26:03.110509Z",
     "shell.execute_reply": "2021-07-29T18:26:03.109893Z",
     "shell.execute_reply.started": "2021-07-29T18:15:34.761452Z"
    },
    "papermill": {
     "duration": 0.06166,
     "end_time": "2021-07-29T18:26:03.110676",
     "exception": false,
     "start_time": "2021-07-29T18:26:03.049016",
     "status": "completed"
    },
    "tags": []
   },
   "outputs": [
    {
     "data": {
      "text/plain": [
       "PassengerId      0\n",
       "Survived         0\n",
       "Pclass           0\n",
       "Name             0\n",
       "Sex              0\n",
       "Age            177\n",
       "SibSp            0\n",
       "Parch            0\n",
       "Ticket           0\n",
       "Fare             0\n",
       "Cabin          687\n",
       "Embarked         2\n",
       "dtype: int64"
      ]
     },
     "execution_count": 5,
     "metadata": {},
     "output_type": "execute_result"
    }
   ],
   "source": [
    "train_data.isnull().sum()"
   ]
  },
  {
   "cell_type": "markdown",
   "id": "4add303d",
   "metadata": {
    "papermill": {
     "duration": 0.047646,
     "end_time": "2021-07-29T18:26:03.206497",
     "exception": false,
     "start_time": "2021-07-29T18:26:03.158851",
     "status": "completed"
    },
    "tags": []
   },
   "source": [
    "Data Cleaning"
   ]
  },
  {
   "cell_type": "code",
   "execution_count": 6,
   "id": "da705350",
   "metadata": {
    "execution": {
     "iopub.execute_input": "2021-07-29T18:26:03.319388Z",
     "iopub.status.busy": "2021-07-29T18:26:03.314325Z",
     "iopub.status.idle": "2021-07-29T18:26:03.323239Z",
     "shell.execute_reply": "2021-07-29T18:26:03.323716Z",
     "shell.execute_reply.started": "2021-07-29T18:15:34.772729Z"
    },
    "papermill": {
     "duration": 0.069471,
     "end_time": "2021-07-29T18:26:03.323919",
     "exception": false,
     "start_time": "2021-07-29T18:26:03.254448",
     "status": "completed"
    },
    "tags": []
   },
   "outputs": [
    {
     "data": {
      "text/html": [
       "<div>\n",
       "<style scoped>\n",
       "    .dataframe tbody tr th:only-of-type {\n",
       "        vertical-align: middle;\n",
       "    }\n",
       "\n",
       "    .dataframe tbody tr th {\n",
       "        vertical-align: top;\n",
       "    }\n",
       "\n",
       "    .dataframe thead th {\n",
       "        text-align: right;\n",
       "    }\n",
       "</style>\n",
       "<table border=\"1\" class=\"dataframe\">\n",
       "  <thead>\n",
       "    <tr style=\"text-align: right;\">\n",
       "      <th></th>\n",
       "      <th>Name</th>\n",
       "    </tr>\n",
       "    <tr>\n",
       "      <th>Embarked</th>\n",
       "      <th></th>\n",
       "    </tr>\n",
       "  </thead>\n",
       "  <tbody>\n",
       "    <tr>\n",
       "      <th>S</th>\n",
       "      <td>644</td>\n",
       "    </tr>\n",
       "    <tr>\n",
       "      <th>C</th>\n",
       "      <td>168</td>\n",
       "    </tr>\n",
       "    <tr>\n",
       "      <th>Q</th>\n",
       "      <td>77</td>\n",
       "    </tr>\n",
       "  </tbody>\n",
       "</table>\n",
       "</div>"
      ],
      "text/plain": [
       "          Name\n",
       "Embarked      \n",
       "S          644\n",
       "C          168\n",
       "Q           77"
      ]
     },
     "execution_count": 6,
     "metadata": {},
     "output_type": "execute_result"
    }
   ],
   "source": [
    "train_data[[\"Embarked\",\"Name\"]].groupby(by=[\"Embarked\"],as_index=True).count().sort_values(\"Name\",ascending=False)"
   ]
  },
  {
   "cell_type": "code",
   "execution_count": 7,
   "id": "38c55ca0",
   "metadata": {
    "execution": {
     "iopub.execute_input": "2021-07-29T18:26:03.430781Z",
     "iopub.status.busy": "2021-07-29T18:26:03.429966Z",
     "iopub.status.idle": "2021-07-29T18:26:03.433352Z",
     "shell.execute_reply": "2021-07-29T18:26:03.433805Z",
     "shell.execute_reply.started": "2021-07-29T18:15:34.794167Z"
    },
    "papermill": {
     "duration": 0.060993,
     "end_time": "2021-07-29T18:26:03.433992",
     "exception": false,
     "start_time": "2021-07-29T18:26:03.372999",
     "status": "completed"
    },
    "tags": []
   },
   "outputs": [
    {
     "name": "stdout",
     "output_type": "stream",
     "text": [
      "the number of null value in Embarked Column = 0\n"
     ]
    }
   ],
   "source": [
    "most_repeated = \"S\"\n",
    "train_data.Embarked.replace(np.nan, most_repeated, inplace=True)\n",
    "testData_data.Embarked.replace(np.nan, most_repeated, inplace=True)\n",
    "print(\"the number of null value in Embarked Column =\",train_data.Embarked.isnull().sum())"
   ]
  },
  {
   "cell_type": "code",
   "execution_count": 8,
   "id": "73af3a58",
   "metadata": {
    "execution": {
     "iopub.execute_input": "2021-07-29T18:26:03.544264Z",
     "iopub.status.busy": "2021-07-29T18:26:03.539683Z",
     "iopub.status.idle": "2021-07-29T18:26:03.560107Z",
     "shell.execute_reply": "2021-07-29T18:26:03.559432Z",
     "shell.execute_reply.started": "2021-07-29T18:15:34.805911Z"
    },
    "papermill": {
     "duration": 0.07785,
     "end_time": "2021-07-29T18:26:03.560274",
     "exception": false,
     "start_time": "2021-07-29T18:26:03.482424",
     "status": "completed"
    },
    "tags": []
   },
   "outputs": [
    {
     "data": {
      "text/html": [
       "<div>\n",
       "<style scoped>\n",
       "    .dataframe tbody tr th:only-of-type {\n",
       "        vertical-align: middle;\n",
       "    }\n",
       "\n",
       "    .dataframe tbody tr th {\n",
       "        vertical-align: top;\n",
       "    }\n",
       "\n",
       "    .dataframe thead th {\n",
       "        text-align: right;\n",
       "    }\n",
       "</style>\n",
       "<table border=\"1\" class=\"dataframe\">\n",
       "  <thead>\n",
       "    <tr style=\"text-align: right;\">\n",
       "      <th></th>\n",
       "      <th>PassengerId</th>\n",
       "      <th>Survived</th>\n",
       "      <th>Pclass</th>\n",
       "      <th>Name</th>\n",
       "      <th>Sex</th>\n",
       "      <th>Age</th>\n",
       "      <th>SibSp</th>\n",
       "      <th>Parch</th>\n",
       "      <th>Ticket</th>\n",
       "      <th>Fare</th>\n",
       "      <th>Cabin</th>\n",
       "      <th>Embarked</th>\n",
       "    </tr>\n",
       "  </thead>\n",
       "  <tbody>\n",
       "    <tr>\n",
       "      <th>0</th>\n",
       "      <td>1</td>\n",
       "      <td>0</td>\n",
       "      <td>3</td>\n",
       "      <td>Braund, Mr. Owen Harris</td>\n",
       "      <td>male</td>\n",
       "      <td>22.0</td>\n",
       "      <td>1</td>\n",
       "      <td>0</td>\n",
       "      <td>A/5 21171</td>\n",
       "      <td>7.2500</td>\n",
       "      <td>NaN</td>\n",
       "      <td>1</td>\n",
       "    </tr>\n",
       "    <tr>\n",
       "      <th>1</th>\n",
       "      <td>2</td>\n",
       "      <td>1</td>\n",
       "      <td>1</td>\n",
       "      <td>Cumings, Mrs. John Bradley (Florence Briggs Th...</td>\n",
       "      <td>female</td>\n",
       "      <td>38.0</td>\n",
       "      <td>1</td>\n",
       "      <td>0</td>\n",
       "      <td>PC 17599</td>\n",
       "      <td>71.2833</td>\n",
       "      <td>C85</td>\n",
       "      <td>2</td>\n",
       "    </tr>\n",
       "    <tr>\n",
       "      <th>2</th>\n",
       "      <td>3</td>\n",
       "      <td>1</td>\n",
       "      <td>3</td>\n",
       "      <td>Heikkinen, Miss. Laina</td>\n",
       "      <td>female</td>\n",
       "      <td>26.0</td>\n",
       "      <td>0</td>\n",
       "      <td>0</td>\n",
       "      <td>STON/O2. 3101282</td>\n",
       "      <td>7.9250</td>\n",
       "      <td>NaN</td>\n",
       "      <td>1</td>\n",
       "    </tr>\n",
       "    <tr>\n",
       "      <th>3</th>\n",
       "      <td>4</td>\n",
       "      <td>1</td>\n",
       "      <td>1</td>\n",
       "      <td>Futrelle, Mrs. Jacques Heath (Lily May Peel)</td>\n",
       "      <td>female</td>\n",
       "      <td>35.0</td>\n",
       "      <td>1</td>\n",
       "      <td>0</td>\n",
       "      <td>113803</td>\n",
       "      <td>53.1000</td>\n",
       "      <td>C123</td>\n",
       "      <td>1</td>\n",
       "    </tr>\n",
       "    <tr>\n",
       "      <th>4</th>\n",
       "      <td>5</td>\n",
       "      <td>0</td>\n",
       "      <td>3</td>\n",
       "      <td>Allen, Mr. William Henry</td>\n",
       "      <td>male</td>\n",
       "      <td>35.0</td>\n",
       "      <td>0</td>\n",
       "      <td>0</td>\n",
       "      <td>373450</td>\n",
       "      <td>8.0500</td>\n",
       "      <td>NaN</td>\n",
       "      <td>1</td>\n",
       "    </tr>\n",
       "  </tbody>\n",
       "</table>\n",
       "</div>"
      ],
      "text/plain": [
       "   PassengerId  Survived  Pclass  \\\n",
       "0            1         0       3   \n",
       "1            2         1       1   \n",
       "2            3         1       3   \n",
       "3            4         1       1   \n",
       "4            5         0       3   \n",
       "\n",
       "                                                Name     Sex   Age  SibSp  \\\n",
       "0                            Braund, Mr. Owen Harris    male  22.0      1   \n",
       "1  Cumings, Mrs. John Bradley (Florence Briggs Th...  female  38.0      1   \n",
       "2                             Heikkinen, Miss. Laina  female  26.0      0   \n",
       "3       Futrelle, Mrs. Jacques Heath (Lily May Peel)  female  35.0      1   \n",
       "4                           Allen, Mr. William Henry    male  35.0      0   \n",
       "\n",
       "   Parch            Ticket     Fare Cabin  Embarked  \n",
       "0      0         A/5 21171   7.2500   NaN         1  \n",
       "1      0          PC 17599  71.2833   C85         2  \n",
       "2      0  STON/O2. 3101282   7.9250   NaN         1  \n",
       "3      0            113803  53.1000  C123         1  \n",
       "4      0            373450   8.0500   NaN         1  "
      ]
     },
     "execution_count": 8,
     "metadata": {},
     "output_type": "execute_result"
    }
   ],
   "source": [
    "Embarked_transform_dict = {\"S\":1, \"C\":2, \"Q\":3}\n",
    "for value in Embarked_transform_dict:\n",
    "    train_data.Embarked.replace(value, Embarked_transform_dict.get(value), inplace=True)\n",
    "    testData_data.Embarked.replace(value, Embarked_transform_dict.get(value), inplace=True)\n",
    "train_data.head(5)"
   ]
  },
  {
   "cell_type": "code",
   "execution_count": 9,
   "id": "f33e1e7b",
   "metadata": {
    "execution": {
     "iopub.execute_input": "2021-07-29T18:26:03.681963Z",
     "iopub.status.busy": "2021-07-29T18:26:03.667079Z",
     "iopub.status.idle": "2021-07-29T18:26:03.687666Z",
     "shell.execute_reply": "2021-07-29T18:26:03.687004Z",
     "shell.execute_reply.started": "2021-07-29T18:15:34.837587Z"
    },
    "papermill": {
     "duration": 0.078115,
     "end_time": "2021-07-29T18:26:03.687824",
     "exception": false,
     "start_time": "2021-07-29T18:26:03.609709",
     "status": "completed"
    },
    "tags": []
   },
   "outputs": [
    {
     "name": "stdout",
     "output_type": "stream",
     "text": [
      "the number of null value in Cabin Column = 687\n"
     ]
    },
    {
     "data": {
      "text/html": [
       "<div>\n",
       "<style scoped>\n",
       "    .dataframe tbody tr th:only-of-type {\n",
       "        vertical-align: middle;\n",
       "    }\n",
       "\n",
       "    .dataframe tbody tr th {\n",
       "        vertical-align: top;\n",
       "    }\n",
       "\n",
       "    .dataframe thead th {\n",
       "        text-align: right;\n",
       "    }\n",
       "</style>\n",
       "<table border=\"1\" class=\"dataframe\">\n",
       "  <thead>\n",
       "    <tr style=\"text-align: right;\">\n",
       "      <th></th>\n",
       "      <th>PassengerId</th>\n",
       "      <th>Survived</th>\n",
       "      <th>Pclass</th>\n",
       "      <th>Name</th>\n",
       "      <th>Sex</th>\n",
       "      <th>Age</th>\n",
       "      <th>SibSp</th>\n",
       "      <th>Parch</th>\n",
       "      <th>Ticket</th>\n",
       "      <th>Fare</th>\n",
       "      <th>Embarked</th>\n",
       "    </tr>\n",
       "  </thead>\n",
       "  <tbody>\n",
       "    <tr>\n",
       "      <th>0</th>\n",
       "      <td>1</td>\n",
       "      <td>0</td>\n",
       "      <td>3</td>\n",
       "      <td>Braund, Mr. Owen Harris</td>\n",
       "      <td>male</td>\n",
       "      <td>22.0</td>\n",
       "      <td>1</td>\n",
       "      <td>0</td>\n",
       "      <td>A/5 21171</td>\n",
       "      <td>7.2500</td>\n",
       "      <td>1</td>\n",
       "    </tr>\n",
       "    <tr>\n",
       "      <th>1</th>\n",
       "      <td>2</td>\n",
       "      <td>1</td>\n",
       "      <td>1</td>\n",
       "      <td>Cumings, Mrs. John Bradley (Florence Briggs Th...</td>\n",
       "      <td>female</td>\n",
       "      <td>38.0</td>\n",
       "      <td>1</td>\n",
       "      <td>0</td>\n",
       "      <td>PC 17599</td>\n",
       "      <td>71.2833</td>\n",
       "      <td>2</td>\n",
       "    </tr>\n",
       "    <tr>\n",
       "      <th>2</th>\n",
       "      <td>3</td>\n",
       "      <td>1</td>\n",
       "      <td>3</td>\n",
       "      <td>Heikkinen, Miss. Laina</td>\n",
       "      <td>female</td>\n",
       "      <td>26.0</td>\n",
       "      <td>0</td>\n",
       "      <td>0</td>\n",
       "      <td>STON/O2. 3101282</td>\n",
       "      <td>7.9250</td>\n",
       "      <td>1</td>\n",
       "    </tr>\n",
       "    <tr>\n",
       "      <th>3</th>\n",
       "      <td>4</td>\n",
       "      <td>1</td>\n",
       "      <td>1</td>\n",
       "      <td>Futrelle, Mrs. Jacques Heath (Lily May Peel)</td>\n",
       "      <td>female</td>\n",
       "      <td>35.0</td>\n",
       "      <td>1</td>\n",
       "      <td>0</td>\n",
       "      <td>113803</td>\n",
       "      <td>53.1000</td>\n",
       "      <td>1</td>\n",
       "    </tr>\n",
       "    <tr>\n",
       "      <th>4</th>\n",
       "      <td>5</td>\n",
       "      <td>0</td>\n",
       "      <td>3</td>\n",
       "      <td>Allen, Mr. William Henry</td>\n",
       "      <td>male</td>\n",
       "      <td>35.0</td>\n",
       "      <td>0</td>\n",
       "      <td>0</td>\n",
       "      <td>373450</td>\n",
       "      <td>8.0500</td>\n",
       "      <td>1</td>\n",
       "    </tr>\n",
       "  </tbody>\n",
       "</table>\n",
       "</div>"
      ],
      "text/plain": [
       "   PassengerId  Survived  Pclass  \\\n",
       "0            1         0       3   \n",
       "1            2         1       1   \n",
       "2            3         1       3   \n",
       "3            4         1       1   \n",
       "4            5         0       3   \n",
       "\n",
       "                                                Name     Sex   Age  SibSp  \\\n",
       "0                            Braund, Mr. Owen Harris    male  22.0      1   \n",
       "1  Cumings, Mrs. John Bradley (Florence Briggs Th...  female  38.0      1   \n",
       "2                             Heikkinen, Miss. Laina  female  26.0      0   \n",
       "3       Futrelle, Mrs. Jacques Heath (Lily May Peel)  female  35.0      1   \n",
       "4                           Allen, Mr. William Henry    male  35.0      0   \n",
       "\n",
       "   Parch            Ticket     Fare  Embarked  \n",
       "0      0         A/5 21171   7.2500         1  \n",
       "1      0          PC 17599  71.2833         2  \n",
       "2      0  STON/O2. 3101282   7.9250         1  \n",
       "3      0            113803  53.1000         1  \n",
       "4      0            373450   8.0500         1  "
      ]
     },
     "execution_count": 9,
     "metadata": {},
     "output_type": "execute_result"
    }
   ],
   "source": [
    "print(\"the number of null value in Cabin Column =\", train_data.Cabin.isnull().sum())\n",
    "train_data.drop(\"Cabin\", axis=1, inplace=True)\n",
    "testData_data.drop(\"Cabin\", axis=1, inplace=True)\n",
    "\n",
    "train_data.head()"
   ]
  },
  {
   "cell_type": "code",
   "execution_count": 10,
   "id": "825af5ee",
   "metadata": {
    "execution": {
     "iopub.execute_input": "2021-07-29T18:26:03.796384Z",
     "iopub.status.busy": "2021-07-29T18:26:03.795684Z",
     "iopub.status.idle": "2021-07-29T18:26:03.799169Z",
     "shell.execute_reply": "2021-07-29T18:26:03.798595Z",
     "shell.execute_reply.started": "2021-07-29T18:15:34.86895Z"
    },
    "papermill": {
     "duration": 0.061319,
     "end_time": "2021-07-29T18:26:03.799320",
     "exception": false,
     "start_time": "2021-07-29T18:26:03.738001",
     "status": "completed"
    },
    "tags": []
   },
   "outputs": [
    {
     "name": "stdout",
     "output_type": "stream",
     "text": [
      "Range of Fare column values =  512.3292\n",
      "Range of Fare column values =  512.3292\n"
     ]
    }
   ],
   "source": [
    "print(\"Range of Fare column values = \", train_data.Fare.max() - train_data.Fare.min())\n",
    "testData_data.Fare.replace(np.nan, testData_data.Fare.mean(), inplace=True)\n",
    "print(\"Range of Fare column values = \", testData_data.Fare.max() - testData_data.Fare.min())"
   ]
  },
  {
   "cell_type": "code",
   "execution_count": 11,
   "id": "3594a609",
   "metadata": {
    "execution": {
     "iopub.execute_input": "2021-07-29T18:26:03.918084Z",
     "iopub.status.busy": "2021-07-29T18:26:03.917112Z",
     "iopub.status.idle": "2021-07-29T18:26:03.922153Z",
     "shell.execute_reply": "2021-07-29T18:26:03.921499Z",
     "shell.execute_reply.started": "2021-07-29T18:15:34.87969Z"
    },
    "papermill": {
     "duration": 0.071701,
     "end_time": "2021-07-29T18:26:03.922317",
     "exception": false,
     "start_time": "2021-07-29T18:26:03.850616",
     "status": "completed"
    },
    "tags": []
   },
   "outputs": [
    {
     "data": {
      "text/html": [
       "<div>\n",
       "<style scoped>\n",
       "    .dataframe tbody tr th:only-of-type {\n",
       "        vertical-align: middle;\n",
       "    }\n",
       "\n",
       "    .dataframe tbody tr th {\n",
       "        vertical-align: top;\n",
       "    }\n",
       "\n",
       "    .dataframe thead th {\n",
       "        text-align: right;\n",
       "    }\n",
       "</style>\n",
       "<table border=\"1\" class=\"dataframe\">\n",
       "  <thead>\n",
       "    <tr style=\"text-align: right;\">\n",
       "      <th></th>\n",
       "      <th>PassengerId</th>\n",
       "      <th>Pclass</th>\n",
       "      <th>Name</th>\n",
       "      <th>Sex</th>\n",
       "      <th>Age</th>\n",
       "      <th>SibSp</th>\n",
       "      <th>Parch</th>\n",
       "      <th>Ticket</th>\n",
       "      <th>Fare</th>\n",
       "      <th>Embarked</th>\n",
       "    </tr>\n",
       "  </thead>\n",
       "  <tbody>\n",
       "    <tr>\n",
       "      <th>0</th>\n",
       "      <td>892</td>\n",
       "      <td>3</td>\n",
       "      <td>Kelly, Mr. James</td>\n",
       "      <td>male</td>\n",
       "      <td>34.5</td>\n",
       "      <td>0</td>\n",
       "      <td>0</td>\n",
       "      <td>330911</td>\n",
       "      <td>7</td>\n",
       "      <td>3</td>\n",
       "    </tr>\n",
       "    <tr>\n",
       "      <th>1</th>\n",
       "      <td>893</td>\n",
       "      <td>3</td>\n",
       "      <td>Wilkes, Mrs. James (Ellen Needs)</td>\n",
       "      <td>female</td>\n",
       "      <td>47.0</td>\n",
       "      <td>1</td>\n",
       "      <td>0</td>\n",
       "      <td>363272</td>\n",
       "      <td>7</td>\n",
       "      <td>1</td>\n",
       "    </tr>\n",
       "    <tr>\n",
       "      <th>2</th>\n",
       "      <td>894</td>\n",
       "      <td>2</td>\n",
       "      <td>Myles, Mr. Thomas Francis</td>\n",
       "      <td>male</td>\n",
       "      <td>62.0</td>\n",
       "      <td>0</td>\n",
       "      <td>0</td>\n",
       "      <td>240276</td>\n",
       "      <td>9</td>\n",
       "      <td>3</td>\n",
       "    </tr>\n",
       "    <tr>\n",
       "      <th>3</th>\n",
       "      <td>895</td>\n",
       "      <td>3</td>\n",
       "      <td>Wirz, Mr. Albert</td>\n",
       "      <td>male</td>\n",
       "      <td>27.0</td>\n",
       "      <td>0</td>\n",
       "      <td>0</td>\n",
       "      <td>315154</td>\n",
       "      <td>8</td>\n",
       "      <td>1</td>\n",
       "    </tr>\n",
       "    <tr>\n",
       "      <th>4</th>\n",
       "      <td>896</td>\n",
       "      <td>3</td>\n",
       "      <td>Hirvonen, Mrs. Alexander (Helga E Lindqvist)</td>\n",
       "      <td>female</td>\n",
       "      <td>22.0</td>\n",
       "      <td>1</td>\n",
       "      <td>1</td>\n",
       "      <td>3101298</td>\n",
       "      <td>12</td>\n",
       "      <td>1</td>\n",
       "    </tr>\n",
       "  </tbody>\n",
       "</table>\n",
       "</div>"
      ],
      "text/plain": [
       "   PassengerId  Pclass                                          Name     Sex  \\\n",
       "0          892       3                              Kelly, Mr. James    male   \n",
       "1          893       3              Wilkes, Mrs. James (Ellen Needs)  female   \n",
       "2          894       2                     Myles, Mr. Thomas Francis    male   \n",
       "3          895       3                              Wirz, Mr. Albert    male   \n",
       "4          896       3  Hirvonen, Mrs. Alexander (Helga E Lindqvist)  female   \n",
       "\n",
       "    Age  SibSp  Parch   Ticket  Fare  Embarked  \n",
       "0  34.5      0      0   330911     7         3  \n",
       "1  47.0      1      0   363272     7         1  \n",
       "2  62.0      0      0   240276     9         3  \n",
       "3  27.0      0      0   315154     8         1  \n",
       "4  22.0      1      1  3101298    12         1  "
      ]
     },
     "execution_count": 11,
     "metadata": {},
     "output_type": "execute_result"
    }
   ],
   "source": [
    "train_data.Fare = train_data.Fare.astype(\"int64\")\n",
    "testData_data.Fare = testData_data.Fare.astype(\"int64\")\n",
    "\n",
    "# df_train.info()\n",
    "testData_data.head()"
   ]
  },
  {
   "cell_type": "code",
   "execution_count": 12,
   "id": "b769a172",
   "metadata": {
    "execution": {
     "iopub.execute_input": "2021-07-29T18:26:04.046421Z",
     "iopub.status.busy": "2021-07-29T18:26:04.045652Z",
     "iopub.status.idle": "2021-07-29T18:26:04.049376Z",
     "shell.execute_reply": "2021-07-29T18:26:04.048792Z",
     "shell.execute_reply.started": "2021-07-29T18:15:34.905612Z"
    },
    "papermill": {
     "duration": 0.075806,
     "end_time": "2021-07-29T18:26:04.049526",
     "exception": false,
     "start_time": "2021-07-29T18:26:03.973720",
     "status": "completed"
    },
    "tags": []
   },
   "outputs": [
    {
     "data": {
      "text/html": [
       "<div>\n",
       "<style scoped>\n",
       "    .dataframe tbody tr th:only-of-type {\n",
       "        vertical-align: middle;\n",
       "    }\n",
       "\n",
       "    .dataframe tbody tr th {\n",
       "        vertical-align: top;\n",
       "    }\n",
       "\n",
       "    .dataframe thead th {\n",
       "        text-align: right;\n",
       "    }\n",
       "</style>\n",
       "<table border=\"1\" class=\"dataframe\">\n",
       "  <thead>\n",
       "    <tr style=\"text-align: right;\">\n",
       "      <th></th>\n",
       "      <th>PassengerId</th>\n",
       "      <th>Survived</th>\n",
       "      <th>Pclass</th>\n",
       "      <th>Name</th>\n",
       "      <th>Sex</th>\n",
       "      <th>Age</th>\n",
       "      <th>SibSp</th>\n",
       "      <th>Parch</th>\n",
       "      <th>Ticket</th>\n",
       "      <th>Fare</th>\n",
       "      <th>Embarked</th>\n",
       "    </tr>\n",
       "  </thead>\n",
       "  <tbody>\n",
       "    <tr>\n",
       "      <th>0</th>\n",
       "      <td>1</td>\n",
       "      <td>0</td>\n",
       "      <td>3</td>\n",
       "      <td>Braund, Mr. Owen Harris</td>\n",
       "      <td>1</td>\n",
       "      <td>22.0</td>\n",
       "      <td>1</td>\n",
       "      <td>0</td>\n",
       "      <td>A/5 21171</td>\n",
       "      <td>7</td>\n",
       "      <td>1</td>\n",
       "    </tr>\n",
       "    <tr>\n",
       "      <th>1</th>\n",
       "      <td>2</td>\n",
       "      <td>1</td>\n",
       "      <td>1</td>\n",
       "      <td>Cumings, Mrs. John Bradley (Florence Briggs Th...</td>\n",
       "      <td>2</td>\n",
       "      <td>38.0</td>\n",
       "      <td>1</td>\n",
       "      <td>0</td>\n",
       "      <td>PC 17599</td>\n",
       "      <td>71</td>\n",
       "      <td>2</td>\n",
       "    </tr>\n",
       "    <tr>\n",
       "      <th>2</th>\n",
       "      <td>3</td>\n",
       "      <td>1</td>\n",
       "      <td>3</td>\n",
       "      <td>Heikkinen, Miss. Laina</td>\n",
       "      <td>2</td>\n",
       "      <td>26.0</td>\n",
       "      <td>0</td>\n",
       "      <td>0</td>\n",
       "      <td>STON/O2. 3101282</td>\n",
       "      <td>7</td>\n",
       "      <td>1</td>\n",
       "    </tr>\n",
       "    <tr>\n",
       "      <th>3</th>\n",
       "      <td>4</td>\n",
       "      <td>1</td>\n",
       "      <td>1</td>\n",
       "      <td>Futrelle, Mrs. Jacques Heath (Lily May Peel)</td>\n",
       "      <td>2</td>\n",
       "      <td>35.0</td>\n",
       "      <td>1</td>\n",
       "      <td>0</td>\n",
       "      <td>113803</td>\n",
       "      <td>53</td>\n",
       "      <td>1</td>\n",
       "    </tr>\n",
       "    <tr>\n",
       "      <th>4</th>\n",
       "      <td>5</td>\n",
       "      <td>0</td>\n",
       "      <td>3</td>\n",
       "      <td>Allen, Mr. William Henry</td>\n",
       "      <td>1</td>\n",
       "      <td>35.0</td>\n",
       "      <td>0</td>\n",
       "      <td>0</td>\n",
       "      <td>373450</td>\n",
       "      <td>8</td>\n",
       "      <td>1</td>\n",
       "    </tr>\n",
       "  </tbody>\n",
       "</table>\n",
       "</div>"
      ],
      "text/plain": [
       "   PassengerId  Survived  Pclass  \\\n",
       "0            1         0       3   \n",
       "1            2         1       1   \n",
       "2            3         1       3   \n",
       "3            4         1       1   \n",
       "4            5         0       3   \n",
       "\n",
       "                                                Name  Sex   Age  SibSp  Parch  \\\n",
       "0                            Braund, Mr. Owen Harris    1  22.0      1      0   \n",
       "1  Cumings, Mrs. John Bradley (Florence Briggs Th...    2  38.0      1      0   \n",
       "2                             Heikkinen, Miss. Laina    2  26.0      0      0   \n",
       "3       Futrelle, Mrs. Jacques Heath (Lily May Peel)    2  35.0      1      0   \n",
       "4                           Allen, Mr. William Henry    1  35.0      0      0   \n",
       "\n",
       "             Ticket  Fare  Embarked  \n",
       "0         A/5 21171     7         1  \n",
       "1          PC 17599    71         2  \n",
       "2  STON/O2. 3101282     7         1  \n",
       "3            113803    53         1  \n",
       "4            373450     8         1  "
      ]
     },
     "execution_count": 12,
     "metadata": {},
     "output_type": "execute_result"
    }
   ],
   "source": [
    "Sex_dict = {\"male\":1, \"female\":2}\n",
    "for key, value in Sex_dict.items():\n",
    "    train_data.Sex.replace(key, value, inplace=True)\n",
    "    testData_data.Sex.replace(key, value, inplace=True)\n",
    "train_data.Sex = train_data.Sex.astype(\"int64\")\n",
    "testData_data.Sex = testData_data.Sex.astype(\"int64\")\n",
    "train_data.head()"
   ]
  },
  {
   "cell_type": "code",
   "execution_count": 13,
   "id": "a07bcb06",
   "metadata": {
    "execution": {
     "iopub.execute_input": "2021-07-29T18:26:04.157574Z",
     "iopub.status.busy": "2021-07-29T18:26:04.156874Z",
     "iopub.status.idle": "2021-07-29T18:26:04.165460Z",
     "shell.execute_reply": "2021-07-29T18:26:04.164746Z",
     "shell.execute_reply.started": "2021-07-29T18:15:34.935476Z"
    },
    "papermill": {
     "duration": 0.064615,
     "end_time": "2021-07-29T18:26:04.165629",
     "exception": false,
     "start_time": "2021-07-29T18:26:04.101014",
     "status": "completed"
    },
    "tags": []
   },
   "outputs": [
    {
     "data": {
      "text/plain": [
       "-0.07722109457217768"
      ]
     },
     "execution_count": 13,
     "metadata": {},
     "output_type": "execute_result"
    }
   ],
   "source": [
    "age_surv_corr= train_data['Age'].corr(train_data['Survived'])\n",
    "age_surv_corr"
   ]
  },
  {
   "cell_type": "code",
   "execution_count": 14,
   "id": "4ce1cdb3",
   "metadata": {
    "execution": {
     "iopub.execute_input": "2021-07-29T18:26:04.276601Z",
     "iopub.status.busy": "2021-07-29T18:26:04.275464Z",
     "iopub.status.idle": "2021-07-29T18:26:04.281394Z",
     "shell.execute_reply": "2021-07-29T18:26:04.280875Z",
     "shell.execute_reply.started": "2021-07-29T18:15:34.951713Z"
    },
    "papermill": {
     "duration": 0.064221,
     "end_time": "2021-07-29T18:26:04.281562",
     "exception": false,
     "start_time": "2021-07-29T18:26:04.217341",
     "status": "completed"
    },
    "tags": []
   },
   "outputs": [
    {
     "data": {
      "text/plain": [
       "-0.33848103596101475"
      ]
     },
     "execution_count": 14,
     "metadata": {},
     "output_type": "execute_result"
    }
   ],
   "source": [
    "class_surv_corr= train_data['Pclass'].corr(train_data['Survived'])\n",
    "class_surv_corr"
   ]
  },
  {
   "cell_type": "code",
   "execution_count": 15,
   "id": "3238c712",
   "metadata": {
    "execution": {
     "iopub.execute_input": "2021-07-29T18:26:04.391367Z",
     "iopub.status.busy": "2021-07-29T18:26:04.390658Z",
     "iopub.status.idle": "2021-07-29T18:26:04.396260Z",
     "shell.execute_reply": "2021-07-29T18:26:04.396800Z",
     "shell.execute_reply.started": "2021-07-29T18:15:34.964653Z"
    },
    "papermill": {
     "duration": 0.063862,
     "end_time": "2021-07-29T18:26:04.397038",
     "exception": false,
     "start_time": "2021-07-29T18:26:04.333176",
     "status": "completed"
    },
    "tags": []
   },
   "outputs": [
    {
     "data": {
      "text/plain": [
       "1    577\n",
       "2    314\n",
       "Name: Sex, dtype: int64"
      ]
     },
     "execution_count": 15,
     "metadata": {},
     "output_type": "execute_result"
    }
   ],
   "source": [
    "train_data['Sex'].value_counts()"
   ]
  },
  {
   "cell_type": "code",
   "execution_count": 16,
   "id": "e09c98cb",
   "metadata": {
    "execution": {
     "iopub.execute_input": "2021-07-29T18:26:04.505158Z",
     "iopub.status.busy": "2021-07-29T18:26:04.504515Z",
     "iopub.status.idle": "2021-07-29T18:26:04.520872Z",
     "shell.execute_reply": "2021-07-29T18:26:04.521504Z",
     "shell.execute_reply.started": "2021-07-29T18:15:34.979551Z"
    },
    "papermill": {
     "duration": 0.07192,
     "end_time": "2021-07-29T18:26:04.521709",
     "exception": false,
     "start_time": "2021-07-29T18:26:04.449789",
     "status": "completed"
    },
    "tags": []
   },
   "outputs": [
    {
     "data": {
      "text/html": [
       "<div>\n",
       "<style scoped>\n",
       "    .dataframe tbody tr th:only-of-type {\n",
       "        vertical-align: middle;\n",
       "    }\n",
       "\n",
       "    .dataframe tbody tr th {\n",
       "        vertical-align: top;\n",
       "    }\n",
       "\n",
       "    .dataframe thead th {\n",
       "        text-align: right;\n",
       "    }\n",
       "</style>\n",
       "<table border=\"1\" class=\"dataframe\">\n",
       "  <thead>\n",
       "    <tr style=\"text-align: right;\">\n",
       "      <th></th>\n",
       "      <th>Sex</th>\n",
       "      <th>Survived</th>\n",
       "    </tr>\n",
       "  </thead>\n",
       "  <tbody>\n",
       "    <tr>\n",
       "      <th>0</th>\n",
       "      <td>1</td>\n",
       "      <td>0.188908</td>\n",
       "    </tr>\n",
       "    <tr>\n",
       "      <th>1</th>\n",
       "      <td>2</td>\n",
       "      <td>0.742038</td>\n",
       "    </tr>\n",
       "  </tbody>\n",
       "</table>\n",
       "</div>"
      ],
      "text/plain": [
       "   Sex  Survived\n",
       "0    1  0.188908\n",
       "1    2  0.742038"
      ]
     },
     "execution_count": 16,
     "metadata": {},
     "output_type": "execute_result"
    }
   ],
   "source": [
    "train_data[['Sex','Survived']].groupby(['Sex'],as_index = False).mean()"
   ]
  },
  {
   "cell_type": "markdown",
   "id": "8433959d",
   "metadata": {
    "papermill": {
     "duration": 0.05394,
     "end_time": "2021-07-29T18:26:04.629222",
     "exception": false,
     "start_time": "2021-07-29T18:26:04.575282",
     "status": "completed"
    },
    "tags": []
   },
   "source": [
    "# EDA"
   ]
  },
  {
   "cell_type": "code",
   "execution_count": 17,
   "id": "faff9960",
   "metadata": {
    "execution": {
     "iopub.execute_input": "2021-07-29T18:26:04.738474Z",
     "iopub.status.busy": "2021-07-29T18:26:04.737760Z",
     "iopub.status.idle": "2021-07-29T18:26:04.896013Z",
     "shell.execute_reply": "2021-07-29T18:26:04.896587Z",
     "shell.execute_reply.started": "2021-07-29T18:15:35.006558Z"
    },
    "papermill": {
     "duration": 0.214221,
     "end_time": "2021-07-29T18:26:04.896781",
     "exception": false,
     "start_time": "2021-07-29T18:26:04.682560",
     "status": "completed"
    },
    "tags": []
   },
   "outputs": [
    {
     "data": {
      "image/png": "[encoded data removed]",
      "text/plain": [
       "<Figure size 432x288 with 1 Axes>"
      ]
     },
     "metadata": {
      "needs_background": "light"
     },
     "output_type": "display_data"
    }
   ],
   "source": [
    "x_axis = ['Female','Male']\n",
    "y_axis = [0.74,0.19]\n",
    "\n",
    "plt.bar(x=x_axis, height=y_axis)\n",
    "plt.xlabel('Sex')\n",
    "plt.ylabel('Survived')\n",
    "plt.show()"
   ]
  },
  {
   "cell_type": "code",
   "execution_count": 18,
   "id": "8af2b88e",
   "metadata": {
    "execution": {
     "iopub.execute_input": "2021-07-29T18:26:05.005626Z",
     "iopub.status.busy": "2021-07-29T18:26:05.004884Z",
     "iopub.status.idle": "2021-07-29T18:26:05.013696Z",
     "shell.execute_reply": "2021-07-29T18:26:05.013123Z",
     "shell.execute_reply.started": "2021-07-29T18:15:35.145827Z"
    },
    "papermill": {
     "duration": 0.064447,
     "end_time": "2021-07-29T18:26:05.013876",
     "exception": false,
     "start_time": "2021-07-29T18:26:04.949429",
     "status": "completed"
    },
    "tags": []
   },
   "outputs": [
    {
     "data": {
      "text/plain": [
       "0    549\n",
       "1    342\n",
       "Name: Survived, dtype: int64"
      ]
     },
     "execution_count": 18,
     "metadata": {},
     "output_type": "execute_result"
    }
   ],
   "source": [
    "train_data['Survived'].value_counts()"
   ]
  },
  {
   "cell_type": "markdown",
   "id": "76dac08b",
   "metadata": {
    "papermill": {
     "duration": 0.053457,
     "end_time": "2021-07-29T18:26:05.120552",
     "exception": false,
     "start_time": "2021-07-29T18:26:05.067095",
     "status": "completed"
    },
    "tags": []
   },
   "source": [
    "549 people died and 342 people survived"
   ]
  },
  {
   "cell_type": "code",
   "execution_count": 19,
   "id": "63829381",
   "metadata": {
    "execution": {
     "iopub.execute_input": "2021-07-29T18:26:05.232896Z",
     "iopub.status.busy": "2021-07-29T18:26:05.231893Z",
     "iopub.status.idle": "2021-07-29T18:26:05.258656Z",
     "shell.execute_reply": "2021-07-29T18:26:05.257626Z",
     "shell.execute_reply.started": "2021-07-29T18:15:35.15671Z"
    },
    "papermill": {
     "duration": 0.084875,
     "end_time": "2021-07-29T18:26:05.258961",
     "exception": false,
     "start_time": "2021-07-29T18:26:05.174086",
     "status": "completed"
    },
    "tags": []
   },
   "outputs": [
    {
     "name": "stdout",
     "output_type": "stream",
     "text": [
      "Survived: 1.0 %\n"
     ]
    }
   ],
   "source": [
    "survived = 'survived'\n",
    "not_survived = 'not survived'\n",
    "#Percentage of people that survived\n",
    "survived_per = train_data[train_data['Survived']==1]\n",
    "survived=float(round((len(survived)/len(train_data))*100.0))\n",
    "print(\"Survived:\",str(survived),'%')"
   ]
  },
  {
   "cell_type": "code",
   "execution_count": 20,
   "id": "0df29bd9",
   "metadata": {
    "execution": {
     "iopub.execute_input": "2021-07-29T18:26:05.374241Z",
     "iopub.status.busy": "2021-07-29T18:26:05.372986Z",
     "iopub.status.idle": "2021-07-29T18:26:05.382012Z",
     "shell.execute_reply": "2021-07-29T18:26:05.382592Z",
     "shell.execute_reply.started": "2021-07-29T18:15:35.172829Z"
    },
    "papermill": {
     "duration": 0.068488,
     "end_time": "2021-07-29T18:26:05.382768",
     "exception": false,
     "start_time": "2021-07-29T18:26:05.314280",
     "status": "completed"
    },
    "tags": []
   },
   "outputs": [
    {
     "name": "stdout",
     "output_type": "stream",
     "text": [
      "Died: 62.0 %\n"
     ]
    }
   ],
   "source": [
    "#Percentage of people that died\n",
    "died= train_data[train_data['Survived']==0]\n",
    "died =float(round((len(died)/len(train_data))*100.0))\n",
    "print(\"Died:\",str(died),'%')"
   ]
  },
  {
   "cell_type": "code",
   "execution_count": 21,
   "id": "f389590c",
   "metadata": {
    "execution": {
     "iopub.execute_input": "2021-07-29T18:26:05.505450Z",
     "iopub.status.busy": "2021-07-29T18:26:05.504782Z",
     "iopub.status.idle": "2021-07-29T18:26:05.509911Z",
     "shell.execute_reply": "2021-07-29T18:26:05.509404Z",
     "shell.execute_reply.started": "2021-07-29T18:15:35.183216Z"
    },
    "papermill": {
     "duration": 0.072594,
     "end_time": "2021-07-29T18:26:05.510096",
     "exception": false,
     "start_time": "2021-07-29T18:26:05.437502",
     "status": "completed"
    },
    "tags": []
   },
   "outputs": [
    {
     "data": {
      "text/plain": [
       "1    216\n",
       "2    184\n",
       "3    491\n",
       "Name: Pclass, dtype: int64"
      ]
     },
     "execution_count": 21,
     "metadata": {},
     "output_type": "execute_result"
    }
   ],
   "source": [
    "train_data['Pclass'].value_counts().sort_index()"
   ]
  },
  {
   "cell_type": "markdown",
   "id": "eecf74af",
   "metadata": {
    "papermill": {
     "duration": 0.059761,
     "end_time": "2021-07-29T18:26:05.629394",
     "exception": false,
     "start_time": "2021-07-29T18:26:05.569633",
     "status": "completed"
    },
    "tags": []
   },
   "source": [
    "there where 3 classes of tickets and 491 wich is class 3 had the highest passengers"
   ]
  },
  {
   "cell_type": "code",
   "execution_count": 22,
   "id": "d8d2735b",
   "metadata": {
    "execution": {
     "iopub.execute_input": "2021-07-29T18:26:05.752622Z",
     "iopub.status.busy": "2021-07-29T18:26:05.751987Z",
     "iopub.status.idle": "2021-07-29T18:26:05.766094Z",
     "shell.execute_reply": "2021-07-29T18:26:05.766834Z",
     "shell.execute_reply.started": "2021-07-29T18:15:35.198011Z"
    },
    "papermill": {
     "duration": 0.077564,
     "end_time": "2021-07-29T18:26:05.767060",
     "exception": false,
     "start_time": "2021-07-29T18:26:05.689496",
     "status": "completed"
    },
    "tags": []
   },
   "outputs": [
    {
     "data": {
      "text/html": [
       "<div>\n",
       "<style scoped>\n",
       "    .dataframe tbody tr th:only-of-type {\n",
       "        vertical-align: middle;\n",
       "    }\n",
       "\n",
       "    .dataframe tbody tr th {\n",
       "        vertical-align: top;\n",
       "    }\n",
       "\n",
       "    .dataframe thead th {\n",
       "        text-align: right;\n",
       "    }\n",
       "</style>\n",
       "<table border=\"1\" class=\"dataframe\">\n",
       "  <thead>\n",
       "    <tr style=\"text-align: right;\">\n",
       "      <th></th>\n",
       "      <th>Pclass</th>\n",
       "      <th>Survived</th>\n",
       "    </tr>\n",
       "  </thead>\n",
       "  <tbody>\n",
       "    <tr>\n",
       "      <th>0</th>\n",
       "      <td>1</td>\n",
       "      <td>0.629630</td>\n",
       "    </tr>\n",
       "    <tr>\n",
       "      <th>1</th>\n",
       "      <td>2</td>\n",
       "      <td>0.472826</td>\n",
       "    </tr>\n",
       "    <tr>\n",
       "      <th>2</th>\n",
       "      <td>3</td>\n",
       "      <td>0.242363</td>\n",
       "    </tr>\n",
       "  </tbody>\n",
       "</table>\n",
       "</div>"
      ],
      "text/plain": [
       "   Pclass  Survived\n",
       "0       1  0.629630\n",
       "1       2  0.472826\n",
       "2       3  0.242363"
      ]
     },
     "execution_count": 22,
     "metadata": {},
     "output_type": "execute_result"
    }
   ],
   "source": [
    "train_data[['Pclass','Survived']].groupby(['Pclass'],as_index=False).mean()"
   ]
  },
  {
   "cell_type": "code",
   "execution_count": 23,
   "id": "3192d389",
   "metadata": {
    "execution": {
     "iopub.execute_input": "2021-07-29T18:26:05.887790Z",
     "iopub.status.busy": "2021-07-29T18:26:05.887124Z",
     "iopub.status.idle": "2021-07-29T18:26:06.162838Z",
     "shell.execute_reply": "2021-07-29T18:26:06.162181Z",
     "shell.execute_reply.started": "2021-07-29T18:15:35.221173Z"
    },
    "papermill": {
     "duration": 0.333377,
     "end_time": "2021-07-29T18:26:06.162994",
     "exception": false,
     "start_time": "2021-07-29T18:26:05.829617",
     "status": "completed"
    },
    "tags": []
   },
   "outputs": [
    {
     "data": {
      "text/plain": [
       "<AxesSubplot:xlabel='Pclass', ylabel='Survived'>"
      ]
     },
     "execution_count": 23,
     "metadata": {},
     "output_type": "execute_result"
    },
    {
     "data": {
      "image/png": "[encoded data removed]",
      "text/plain": [
       "<Figure size 432x288 with 1 Axes>"
      ]
     },
     "metadata": {
      "needs_background": "light"
     },
     "output_type": "display_data"
    }
   ],
   "source": [
    "sns.barplot(x='Pclass', y='Survived', data=train_data)\n"
   ]
  },
  {
   "cell_type": "code",
   "execution_count": 24,
   "id": "05cd1c9f",
   "metadata": {
    "execution": {
     "iopub.execute_input": "2021-07-29T18:26:06.284902Z",
     "iopub.status.busy": "2021-07-29T18:26:06.283014Z",
     "iopub.status.idle": "2021-07-29T18:26:06.306478Z",
     "shell.execute_reply": "2021-07-29T18:26:06.305859Z",
     "shell.execute_reply.started": "2021-07-29T18:15:35.484392Z"
    },
    "papermill": {
     "duration": 0.087724,
     "end_time": "2021-07-29T18:26:06.306657",
     "exception": false,
     "start_time": "2021-07-29T18:26:06.218933",
     "status": "completed"
    },
    "tags": []
   },
   "outputs": [
    {
     "name": "stdout",
     "output_type": "stream",
     "text": [
      "Sex       1    2\n",
      "Pclass          \n",
      "1       122   94\n",
      "2       108   76\n",
      "3       347  144\n"
     ]
    }
   ],
   "source": [
    "all_classes=pd.crosstab(train_data['Pclass'],train_data['Sex'])\n",
    "print(all_classes)"
   ]
  },
  {
   "cell_type": "code",
   "execution_count": 25,
   "id": "6037c927",
   "metadata": {
    "execution": {
     "iopub.execute_input": "2021-07-29T18:26:06.429567Z",
     "iopub.status.busy": "2021-07-29T18:26:06.428727Z",
     "iopub.status.idle": "2021-07-29T18:26:06.446767Z",
     "shell.execute_reply": "2021-07-29T18:26:06.447317Z",
     "shell.execute_reply.started": "2021-07-29T18:15:35.507893Z"
    },
    "papermill": {
     "duration": 0.084051,
     "end_time": "2021-07-29T18:26:06.447543",
     "exception": false,
     "start_time": "2021-07-29T18:26:06.363492",
     "status": "completed"
    },
    "tags": []
   },
   "outputs": [
    {
     "name": "stdout",
     "output_type": "stream",
     "text": [
      "Survived    0    1\n",
      "Pclass            \n",
      "1          80  136\n",
      "2          97   87\n",
      "3         372  119\n"
     ]
    }
   ],
   "source": [
    "all_classes =pd.crosstab(train_data['Pclass'],train_data['Survived'])\n",
    "print(all_classes)"
   ]
  },
  {
   "cell_type": "code",
   "execution_count": 26,
   "id": "ca6469e0",
   "metadata": {
    "execution": {
     "iopub.execute_input": "2021-07-29T18:26:06.568441Z",
     "iopub.status.busy": "2021-07-29T18:26:06.567616Z",
     "iopub.status.idle": "2021-07-29T18:26:06.810930Z",
     "shell.execute_reply": "2021-07-29T18:26:06.809773Z",
     "shell.execute_reply.started": "2021-07-29T18:15:35.541367Z"
    },
    "papermill": {
     "duration": 0.307336,
     "end_time": "2021-07-29T18:26:06.811134",
     "exception": false,
     "start_time": "2021-07-29T18:26:06.503798",
     "status": "completed"
    },
    "tags": []
   },
   "outputs": [
    {
     "data": {
      "text/plain": [
       "Text(0.5, 1.0, 'The perentage of those who survived and died in the different coach classes')"
      ]
     },
     "execution_count": 26,
     "metadata": {},
     "output_type": "execute_result"
    },
    {
     "data": {
      "image/png": "[encoded data removed]",
      "text/plain": [
       "<Figure size 432x288 with 1 Axes>"
      ]
     },
     "metadata": {
      "needs_background": "light"
     },
     "output_type": "display_data"
    }
   ],
   "source": [
    "all_classes.div(all_classes.sum(1).astype(float),axis=0).plot(kind='barh',stacked=False)\n",
    "plt.ylabel('Pclass')\n",
    "plt.xlabel('Percentage')\n",
    "plt.title('The perentage of those who survived and died in the different coach classes')"
   ]
  },
  {
   "cell_type": "code",
   "execution_count": 27,
   "id": "26aa78bb",
   "metadata": {
    "execution": {
     "iopub.execute_input": "2021-07-29T18:26:06.941077Z",
     "iopub.status.busy": "2021-07-29T18:26:06.940349Z",
     "iopub.status.idle": "2021-07-29T18:26:06.962418Z",
     "shell.execute_reply": "2021-07-29T18:26:06.962881Z",
     "shell.execute_reply.started": "2021-07-29T18:15:35.76461Z"
    },
    "papermill": {
     "duration": 0.091235,
     "end_time": "2021-07-29T18:26:06.963083",
     "exception": false,
     "start_time": "2021-07-29T18:26:06.871848",
     "status": "completed"
    },
    "tags": []
   },
   "outputs": [
    {
     "data": {
      "text/plain": [
       "(0.339, 10.368]      64\n",
       "(10.368, 20.315]    115\n",
       "(20.315, 30.263]    230\n",
       "(30.263, 40.21]     155\n",
       "(40.21, 50.158]      86\n",
       "(50.158, 60.105]     42\n",
       "(60.105, 70.052]     17\n",
       "(70.052, 80.0]        5\n",
       "Name: Age, dtype: int64"
      ]
     },
     "execution_count": 27,
     "metadata": {},
     "output_type": "execute_result"
    }
   ],
   "source": [
    "freq_table = train_data['Age'].value_counts(bins=8).sort_index()\n",
    "freq_table"
   ]
  },
  {
   "cell_type": "code",
   "execution_count": 28,
   "id": "8b03b5ac",
   "metadata": {
    "execution": {
     "iopub.execute_input": "2021-07-29T18:26:07.085829Z",
     "iopub.status.busy": "2021-07-29T18:26:07.085171Z",
     "iopub.status.idle": "2021-07-29T18:26:07.095872Z",
     "shell.execute_reply": "2021-07-29T18:26:07.096367Z",
     "shell.execute_reply.started": "2021-07-29T18:15:35.785336Z"
    },
    "papermill": {
     "duration": 0.075399,
     "end_time": "2021-07-29T18:26:07.096555",
     "exception": false,
     "start_time": "2021-07-29T18:26:07.021156",
     "status": "completed"
    },
    "tags": []
   },
   "outputs": [
    {
     "data": {
      "text/html": [
       "<div>\n",
       "<style scoped>\n",
       "    .dataframe tbody tr th:only-of-type {\n",
       "        vertical-align: middle;\n",
       "    }\n",
       "\n",
       "    .dataframe tbody tr th {\n",
       "        vertical-align: top;\n",
       "    }\n",
       "\n",
       "    .dataframe thead th {\n",
       "        text-align: right;\n",
       "    }\n",
       "</style>\n",
       "<table border=\"1\" class=\"dataframe\">\n",
       "  <thead>\n",
       "    <tr style=\"text-align: right;\">\n",
       "      <th></th>\n",
       "      <th>Age</th>\n",
       "    </tr>\n",
       "  </thead>\n",
       "  <tbody>\n",
       "    <tr>\n",
       "      <th>(0.339, 10.368]</th>\n",
       "      <td>64</td>\n",
       "    </tr>\n",
       "    <tr>\n",
       "      <th>(10.368, 20.315]</th>\n",
       "      <td>115</td>\n",
       "    </tr>\n",
       "    <tr>\n",
       "      <th>(20.315, 30.263]</th>\n",
       "      <td>230</td>\n",
       "    </tr>\n",
       "    <tr>\n",
       "      <th>(30.263, 40.21]</th>\n",
       "      <td>155</td>\n",
       "    </tr>\n",
       "    <tr>\n",
       "      <th>(40.21, 50.158]</th>\n",
       "      <td>86</td>\n",
       "    </tr>\n",
       "    <tr>\n",
       "      <th>(50.158, 60.105]</th>\n",
       "      <td>42</td>\n",
       "    </tr>\n",
       "    <tr>\n",
       "      <th>(60.105, 70.052]</th>\n",
       "      <td>17</td>\n",
       "    </tr>\n",
       "    <tr>\n",
       "      <th>(70.052, 80.0]</th>\n",
       "      <td>5</td>\n",
       "    </tr>\n",
       "  </tbody>\n",
       "</table>\n",
       "</div>"
      ],
      "text/plain": [
       "                  Age\n",
       "(0.339, 10.368]    64\n",
       "(10.368, 20.315]  115\n",
       "(20.315, 30.263]  230\n",
       "(30.263, 40.21]   155\n",
       "(40.21, 50.158]    86\n",
       "(50.158, 60.105]   42\n",
       "(60.105, 70.052]   17\n",
       "(70.052, 80.0]      5"
      ]
     },
     "execution_count": 28,
     "metadata": {},
     "output_type": "execute_result"
    }
   ],
   "source": [
    "freq = pd.DataFrame(freq_table)\n",
    "freq"
   ]
  },
  {
   "cell_type": "markdown",
   "id": "b041df45",
   "metadata": {
    "papermill": {
     "duration": 0.065149,
     "end_time": "2021-07-29T18:26:07.228448",
     "exception": false,
     "start_time": "2021-07-29T18:26:07.163299",
     "status": "completed"
    },
    "tags": []
   },
   "source": [
    "the ages between 20 to 30 had the most passengers"
   ]
  },
  {
   "cell_type": "code",
   "execution_count": 29,
   "id": "db36f9b3",
   "metadata": {
    "execution": {
     "iopub.execute_input": "2021-07-29T18:26:07.359703Z",
     "iopub.status.busy": "2021-07-29T18:26:07.358874Z",
     "iopub.status.idle": "2021-07-29T18:26:07.365697Z",
     "shell.execute_reply": "2021-07-29T18:26:07.366265Z",
     "shell.execute_reply.started": "2021-07-29T18:15:35.799969Z"
    },
    "papermill": {
     "duration": 0.074266,
     "end_time": "2021-07-29T18:26:07.366455",
     "exception": false,
     "start_time": "2021-07-29T18:26:07.292189",
     "status": "completed"
    },
    "tags": []
   },
   "outputs": [
    {
     "data": {
      "text/plain": [
       "1    646\n",
       "2    168\n",
       "3     77\n",
       "Name: Embarked, dtype: int64"
      ]
     },
     "execution_count": 29,
     "metadata": {},
     "output_type": "execute_result"
    }
   ],
   "source": [
    "train_data.Embarked.value_counts()"
   ]
  },
  {
   "cell_type": "code",
   "execution_count": 30,
   "id": "d7ab986d",
   "metadata": {
    "execution": {
     "iopub.execute_input": "2021-07-29T18:26:07.503798Z",
     "iopub.status.busy": "2021-07-29T18:26:07.502717Z",
     "iopub.status.idle": "2021-07-29T18:26:07.516475Z",
     "shell.execute_reply": "2021-07-29T18:26:07.516961Z",
     "shell.execute_reply.started": "2021-07-29T18:15:35.809751Z"
    },
    "papermill": {
     "duration": 0.083354,
     "end_time": "2021-07-29T18:26:07.517167",
     "exception": false,
     "start_time": "2021-07-29T18:26:07.433813",
     "status": "completed"
    },
    "tags": []
   },
   "outputs": [
    {
     "data": {
      "text/html": [
       "<div>\n",
       "<style scoped>\n",
       "    .dataframe tbody tr th:only-of-type {\n",
       "        vertical-align: middle;\n",
       "    }\n",
       "\n",
       "    .dataframe tbody tr th {\n",
       "        vertical-align: top;\n",
       "    }\n",
       "\n",
       "    .dataframe thead th {\n",
       "        text-align: right;\n",
       "    }\n",
       "</style>\n",
       "<table border=\"1\" class=\"dataframe\">\n",
       "  <thead>\n",
       "    <tr style=\"text-align: right;\">\n",
       "      <th></th>\n",
       "      <th>Embarked</th>\n",
       "      <th>Survived</th>\n",
       "    </tr>\n",
       "  </thead>\n",
       "  <tbody>\n",
       "    <tr>\n",
       "      <th>0</th>\n",
       "      <td>1</td>\n",
       "      <td>0.339009</td>\n",
       "    </tr>\n",
       "    <tr>\n",
       "      <th>1</th>\n",
       "      <td>2</td>\n",
       "      <td>0.553571</td>\n",
       "    </tr>\n",
       "    <tr>\n",
       "      <th>2</th>\n",
       "      <td>3</td>\n",
       "      <td>0.389610</td>\n",
       "    </tr>\n",
       "  </tbody>\n",
       "</table>\n",
       "</div>"
      ],
      "text/plain": [
       "   Embarked  Survived\n",
       "0         1  0.339009\n",
       "1         2  0.553571\n",
       "2         3  0.389610"
      ]
     },
     "execution_count": 30,
     "metadata": {},
     "output_type": "execute_result"
    }
   ],
   "source": [
    "train_data[['Embarked','Survived']].groupby(['Embarked'],as_index=False).mean()"
   ]
  },
  {
   "cell_type": "code",
   "execution_count": 31,
   "id": "e0bbfc3c",
   "metadata": {
    "execution": {
     "iopub.execute_input": "2021-07-29T18:26:07.642749Z",
     "iopub.status.busy": "2021-07-29T18:26:07.642122Z",
     "iopub.status.idle": "2021-07-29T18:26:07.920003Z",
     "shell.execute_reply": "2021-07-29T18:26:07.920483Z",
     "shell.execute_reply.started": "2021-07-29T18:15:35.829526Z"
    },
    "papermill": {
     "duration": 0.342829,
     "end_time": "2021-07-29T18:26:07.920658",
     "exception": false,
     "start_time": "2021-07-29T18:26:07.577829",
     "status": "completed"
    },
    "tags": []
   },
   "outputs": [
    {
     "data": {
      "image/png": "[encoded data removed]",
      "text/plain": [
       "<Figure size 432x288 with 1 Axes>"
      ]
     },
     "metadata": {
      "needs_background": "light"
     },
     "output_type": "display_data"
    }
   ],
   "source": [
    "x_axis = ['C','Q','S']\n",
    "y_axis = [0.55,0.39,0.34]\n",
    "\n",
    "plt.bar(x=x_axis, height=y_axis)\n",
    "plt.xlabel('Embarked')\n",
    "plt.ylabel('Survived')\n",
    "plt.title('The ratio of people who Embarked and Survived')\n",
    "plt.show()"
   ]
  },
  {
   "cell_type": "code",
   "execution_count": 32,
   "id": "f27d5d95",
   "metadata": {
    "execution": {
     "iopub.execute_input": "2021-07-29T18:26:08.052530Z",
     "iopub.status.busy": "2021-07-29T18:26:08.051622Z",
     "iopub.status.idle": "2021-07-29T18:26:08.060867Z",
     "shell.execute_reply": "2021-07-29T18:26:08.060328Z",
     "shell.execute_reply.started": "2021-07-29T18:15:36.073607Z"
    },
    "papermill": {
     "duration": 0.07715,
     "end_time": "2021-07-29T18:26:08.061037",
     "exception": false,
     "start_time": "2021-07-29T18:26:07.983887",
     "status": "completed"
    },
    "tags": []
   },
   "outputs": [
    {
     "data": {
      "text/plain": [
       "0    678\n",
       "1    118\n",
       "2     80\n",
       "3      5\n",
       "5      5\n",
       "4      4\n",
       "6      1\n",
       "Name: Parch, dtype: int64"
      ]
     },
     "execution_count": 32,
     "metadata": {},
     "output_type": "execute_result"
    }
   ],
   "source": [
    "train_data.Parch.value_counts()"
   ]
  },
  {
   "cell_type": "code",
   "execution_count": 33,
   "id": "9ac51037",
   "metadata": {
    "execution": {
     "iopub.execute_input": "2021-07-29T18:26:08.193961Z",
     "iopub.status.busy": "2021-07-29T18:26:08.193058Z",
     "iopub.status.idle": "2021-07-29T18:26:08.209454Z",
     "shell.execute_reply": "2021-07-29T18:26:08.208850Z",
     "shell.execute_reply.started": "2021-07-29T18:15:36.082855Z"
    },
    "papermill": {
     "duration": 0.086901,
     "end_time": "2021-07-29T18:26:08.209604",
     "exception": false,
     "start_time": "2021-07-29T18:26:08.122703",
     "status": "completed"
    },
    "tags": []
   },
   "outputs": [
    {
     "data": {
      "text/html": [
       "<div>\n",
       "<style scoped>\n",
       "    .dataframe tbody tr th:only-of-type {\n",
       "        vertical-align: middle;\n",
       "    }\n",
       "\n",
       "    .dataframe tbody tr th {\n",
       "        vertical-align: top;\n",
       "    }\n",
       "\n",
       "    .dataframe thead th {\n",
       "        text-align: right;\n",
       "    }\n",
       "</style>\n",
       "<table border=\"1\" class=\"dataframe\">\n",
       "  <thead>\n",
       "    <tr style=\"text-align: right;\">\n",
       "      <th></th>\n",
       "      <th>Parch</th>\n",
       "      <th>Survived</th>\n",
       "    </tr>\n",
       "  </thead>\n",
       "  <tbody>\n",
       "    <tr>\n",
       "      <th>0</th>\n",
       "      <td>0</td>\n",
       "      <td>0.343658</td>\n",
       "    </tr>\n",
       "    <tr>\n",
       "      <th>1</th>\n",
       "      <td>1</td>\n",
       "      <td>0.550847</td>\n",
       "    </tr>\n",
       "    <tr>\n",
       "      <th>2</th>\n",
       "      <td>2</td>\n",
       "      <td>0.500000</td>\n",
       "    </tr>\n",
       "    <tr>\n",
       "      <th>3</th>\n",
       "      <td>3</td>\n",
       "      <td>0.600000</td>\n",
       "    </tr>\n",
       "    <tr>\n",
       "      <th>4</th>\n",
       "      <td>4</td>\n",
       "      <td>0.000000</td>\n",
       "    </tr>\n",
       "    <tr>\n",
       "      <th>5</th>\n",
       "      <td>5</td>\n",
       "      <td>0.200000</td>\n",
       "    </tr>\n",
       "    <tr>\n",
       "      <th>6</th>\n",
       "      <td>6</td>\n",
       "      <td>0.000000</td>\n",
       "    </tr>\n",
       "  </tbody>\n",
       "</table>\n",
       "</div>"
      ],
      "text/plain": [
       "   Parch  Survived\n",
       "0      0  0.343658\n",
       "1      1  0.550847\n",
       "2      2  0.500000\n",
       "3      3  0.600000\n",
       "4      4  0.000000\n",
       "5      5  0.200000\n",
       "6      6  0.000000"
      ]
     },
     "execution_count": 33,
     "metadata": {},
     "output_type": "execute_result"
    }
   ],
   "source": [
    "train_data[['Parch','Survived']].groupby(['Parch'],as_index=False).mean()"
   ]
  },
  {
   "cell_type": "code",
   "execution_count": 34,
   "id": "9549fe67",
   "metadata": {
    "execution": {
     "iopub.execute_input": "2021-07-29T18:26:08.359907Z",
     "iopub.status.busy": "2021-07-29T18:26:08.341593Z",
     "iopub.status.idle": "2021-07-29T18:26:08.502549Z",
     "shell.execute_reply": "2021-07-29T18:26:08.501870Z",
     "shell.execute_reply.started": "2021-07-29T18:15:36.109058Z"
    },
    "papermill": {
     "duration": 0.232507,
     "end_time": "2021-07-29T18:26:08.502699",
     "exception": false,
     "start_time": "2021-07-29T18:26:08.270192",
     "status": "completed"
    },
    "tags": []
   },
   "outputs": [
    {
     "data": {
      "image/png": "[encoded data removed]",
      "text/plain": [
       "<Figure size 432x288 with 1 Axes>"
      ]
     },
     "metadata": {
      "needs_background": "light"
     },
     "output_type": "display_data"
    }
   ],
   "source": [
    "x_axis = [0,1,2,3,4,5,6]\n",
    "y_axis = [0.34,0.55,0.50,0.60,0.0,0.2,0.0]\n",
    "\n",
    "plt.bar(x=x_axis, height=y_axis)\n",
    "plt.xlabel('Parch')\n",
    "plt.ylabel('Survived')\n",
    "plt.title('The ratio of Parch and Survived')\n",
    "plt.show()"
   ]
  },
  {
   "cell_type": "code",
   "execution_count": 35,
   "id": "87aa859e",
   "metadata": {
    "execution": {
     "iopub.execute_input": "2021-07-29T18:26:08.649940Z",
     "iopub.status.busy": "2021-07-29T18:26:08.649062Z",
     "iopub.status.idle": "2021-07-29T18:26:08.653299Z",
     "shell.execute_reply": "2021-07-29T18:26:08.653789Z",
     "shell.execute_reply.started": "2021-07-29T18:15:36.280571Z"
    },
    "papermill": {
     "duration": 0.085337,
     "end_time": "2021-07-29T18:26:08.653963",
     "exception": false,
     "start_time": "2021-07-29T18:26:08.568626",
     "status": "completed"
    },
    "tags": []
   },
   "outputs": [
    {
     "data": {
      "text/html": [
       "<div>\n",
       "<style scoped>\n",
       "    .dataframe tbody tr th:only-of-type {\n",
       "        vertical-align: middle;\n",
       "    }\n",
       "\n",
       "    .dataframe tbody tr th {\n",
       "        vertical-align: top;\n",
       "    }\n",
       "\n",
       "    .dataframe thead th {\n",
       "        text-align: right;\n",
       "    }\n",
       "</style>\n",
       "<table border=\"1\" class=\"dataframe\">\n",
       "  <thead>\n",
       "    <tr style=\"text-align: right;\">\n",
       "      <th></th>\n",
       "      <th>SibSp</th>\n",
       "      <th>Survived</th>\n",
       "    </tr>\n",
       "  </thead>\n",
       "  <tbody>\n",
       "    <tr>\n",
       "      <th>0</th>\n",
       "      <td>0</td>\n",
       "      <td>0.345395</td>\n",
       "    </tr>\n",
       "    <tr>\n",
       "      <th>1</th>\n",
       "      <td>1</td>\n",
       "      <td>0.535885</td>\n",
       "    </tr>\n",
       "    <tr>\n",
       "      <th>2</th>\n",
       "      <td>2</td>\n",
       "      <td>0.464286</td>\n",
       "    </tr>\n",
       "    <tr>\n",
       "      <th>3</th>\n",
       "      <td>3</td>\n",
       "      <td>0.250000</td>\n",
       "    </tr>\n",
       "    <tr>\n",
       "      <th>4</th>\n",
       "      <td>4</td>\n",
       "      <td>0.166667</td>\n",
       "    </tr>\n",
       "    <tr>\n",
       "      <th>5</th>\n",
       "      <td>5</td>\n",
       "      <td>0.000000</td>\n",
       "    </tr>\n",
       "    <tr>\n",
       "      <th>6</th>\n",
       "      <td>8</td>\n",
       "      <td>0.000000</td>\n",
       "    </tr>\n",
       "  </tbody>\n",
       "</table>\n",
       "</div>"
      ],
      "text/plain": [
       "   SibSp  Survived\n",
       "0      0  0.345395\n",
       "1      1  0.535885\n",
       "2      2  0.464286\n",
       "3      3  0.250000\n",
       "4      4  0.166667\n",
       "5      5  0.000000\n",
       "6      8  0.000000"
      ]
     },
     "execution_count": 35,
     "metadata": {},
     "output_type": "execute_result"
    }
   ],
   "source": [
    "train_data[['SibSp','Survived']].groupby(['SibSp'], as_index = False).mean()"
   ]
  },
  {
   "cell_type": "code",
   "execution_count": 36,
   "id": "49e56153",
   "metadata": {
    "execution": {
     "iopub.execute_input": "2021-07-29T18:26:08.793809Z",
     "iopub.status.busy": "2021-07-29T18:26:08.793145Z",
     "iopub.status.idle": "2021-07-29T18:26:08.946731Z",
     "shell.execute_reply": "2021-07-29T18:26:08.947288Z",
     "shell.execute_reply.started": "2021-07-29T18:15:36.302411Z"
    },
    "papermill": {
     "duration": 0.227577,
     "end_time": "2021-07-29T18:26:08.947559",
     "exception": false,
     "start_time": "2021-07-29T18:26:08.719982",
     "status": "completed"
    },
    "tags": []
   },
   "outputs": [
    {
     "data": {
      "image/png": "[encoded data removed]",
      "text/plain": [
       "<Figure size 432x288 with 1 Axes>"
      ]
     },
     "metadata": {
      "needs_background": "light"
     },
     "output_type": "display_data"
    }
   ],
   "source": [
    "x_axis = [0,1,2,3,4,5,8]\n",
    "y_axis = [0.35,0.54,0.46,0.25,0.17,0.0,0.0]\n",
    "plt.bar(x=x_axis, height=y_axis)\n",
    "plt.xlabel('SibSp')\n",
    "plt.ylabel('Survived')\n",
    "plt.title('The ratio of SibSp and Survived')\n",
    "plt.show()"
   ]
  },
  {
   "cell_type": "code",
   "execution_count": 37,
   "id": "ddd054ed",
   "metadata": {
    "execution": {
     "iopub.execute_input": "2021-07-29T18:26:09.078513Z",
     "iopub.status.busy": "2021-07-29T18:26:09.077853Z",
     "iopub.status.idle": "2021-07-29T18:26:09.105172Z",
     "shell.execute_reply": "2021-07-29T18:26:09.105701Z",
     "shell.execute_reply.started": "2021-07-29T18:15:36.46448Z"
    },
    "papermill": {
     "duration": 0.095655,
     "end_time": "2021-07-29T18:26:09.105892",
     "exception": false,
     "start_time": "2021-07-29T18:26:09.010237",
     "status": "completed"
    },
    "tags": []
   },
   "outputs": [
    {
     "data": {
      "text/html": [
       "<div>\n",
       "<style scoped>\n",
       "    .dataframe tbody tr th:only-of-type {\n",
       "        vertical-align: middle;\n",
       "    }\n",
       "\n",
       "    .dataframe tbody tr th {\n",
       "        vertical-align: top;\n",
       "    }\n",
       "\n",
       "    .dataframe thead th {\n",
       "        text-align: right;\n",
       "    }\n",
       "</style>\n",
       "<table border=\"1\" class=\"dataframe\">\n",
       "  <thead>\n",
       "    <tr style=\"text-align: right;\">\n",
       "      <th></th>\n",
       "      <th>PassengerId</th>\n",
       "      <th>Survived</th>\n",
       "      <th>Pclass</th>\n",
       "      <th>Name</th>\n",
       "      <th>Sex</th>\n",
       "      <th>Age</th>\n",
       "      <th>SibSp</th>\n",
       "      <th>Parch</th>\n",
       "      <th>Ticket</th>\n",
       "      <th>Fare</th>\n",
       "      <th>Embarked</th>\n",
       "    </tr>\n",
       "  </thead>\n",
       "  <tbody>\n",
       "    <tr>\n",
       "      <th>0</th>\n",
       "      <td>1</td>\n",
       "      <td>0</td>\n",
       "      <td>3</td>\n",
       "      <td>Braund, Mr. Owen Harris</td>\n",
       "      <td>1</td>\n",
       "      <td>-0.530005</td>\n",
       "      <td>1</td>\n",
       "      <td>0</td>\n",
       "      <td>A/5 21171</td>\n",
       "      <td>7</td>\n",
       "      <td>1</td>\n",
       "    </tr>\n",
       "    <tr>\n",
       "      <th>1</th>\n",
       "      <td>2</td>\n",
       "      <td>1</td>\n",
       "      <td>1</td>\n",
       "      <td>Cumings, Mrs. John Bradley (Florence Briggs Th...</td>\n",
       "      <td>2</td>\n",
       "      <td>0.571430</td>\n",
       "      <td>1</td>\n",
       "      <td>0</td>\n",
       "      <td>PC 17599</td>\n",
       "      <td>71</td>\n",
       "      <td>2</td>\n",
       "    </tr>\n",
       "    <tr>\n",
       "      <th>2</th>\n",
       "      <td>3</td>\n",
       "      <td>1</td>\n",
       "      <td>3</td>\n",
       "      <td>Heikkinen, Miss. Laina</td>\n",
       "      <td>2</td>\n",
       "      <td>-0.254646</td>\n",
       "      <td>0</td>\n",
       "      <td>0</td>\n",
       "      <td>STON/O2. 3101282</td>\n",
       "      <td>7</td>\n",
       "      <td>1</td>\n",
       "    </tr>\n",
       "    <tr>\n",
       "      <th>3</th>\n",
       "      <td>4</td>\n",
       "      <td>1</td>\n",
       "      <td>1</td>\n",
       "      <td>Futrelle, Mrs. Jacques Heath (Lily May Peel)</td>\n",
       "      <td>2</td>\n",
       "      <td>0.364911</td>\n",
       "      <td>1</td>\n",
       "      <td>0</td>\n",
       "      <td>113803</td>\n",
       "      <td>53</td>\n",
       "      <td>1</td>\n",
       "    </tr>\n",
       "    <tr>\n",
       "      <th>4</th>\n",
       "      <td>5</td>\n",
       "      <td>0</td>\n",
       "      <td>3</td>\n",
       "      <td>Allen, Mr. William Henry</td>\n",
       "      <td>1</td>\n",
       "      <td>0.364911</td>\n",
       "      <td>0</td>\n",
       "      <td>0</td>\n",
       "      <td>373450</td>\n",
       "      <td>8</td>\n",
       "      <td>1</td>\n",
       "    </tr>\n",
       "    <tr>\n",
       "      <th>...</th>\n",
       "      <td>...</td>\n",
       "      <td>...</td>\n",
       "      <td>...</td>\n",
       "      <td>...</td>\n",
       "      <td>...</td>\n",
       "      <td>...</td>\n",
       "      <td>...</td>\n",
       "      <td>...</td>\n",
       "      <td>...</td>\n",
       "      <td>...</td>\n",
       "      <td>...</td>\n",
       "    </tr>\n",
       "    <tr>\n",
       "      <th>885</th>\n",
       "      <td>886</td>\n",
       "      <td>0</td>\n",
       "      <td>3</td>\n",
       "      <td>Rice, Mrs. William (Margaret Norton)</td>\n",
       "      <td>2</td>\n",
       "      <td>0.640270</td>\n",
       "      <td>0</td>\n",
       "      <td>5</td>\n",
       "      <td>382652</td>\n",
       "      <td>29</td>\n",
       "      <td>3</td>\n",
       "    </tr>\n",
       "    <tr>\n",
       "      <th>886</th>\n",
       "      <td>887</td>\n",
       "      <td>0</td>\n",
       "      <td>2</td>\n",
       "      <td>Montvila, Rev. Juozas</td>\n",
       "      <td>1</td>\n",
       "      <td>-0.185807</td>\n",
       "      <td>0</td>\n",
       "      <td>0</td>\n",
       "      <td>211536</td>\n",
       "      <td>13</td>\n",
       "      <td>1</td>\n",
       "    </tr>\n",
       "    <tr>\n",
       "      <th>887</th>\n",
       "      <td>888</td>\n",
       "      <td>1</td>\n",
       "      <td>1</td>\n",
       "      <td>Graham, Miss. Margaret Edith</td>\n",
       "      <td>2</td>\n",
       "      <td>-0.736524</td>\n",
       "      <td>0</td>\n",
       "      <td>0</td>\n",
       "      <td>112053</td>\n",
       "      <td>30</td>\n",
       "      <td>1</td>\n",
       "    </tr>\n",
       "    <tr>\n",
       "      <th>889</th>\n",
       "      <td>890</td>\n",
       "      <td>1</td>\n",
       "      <td>1</td>\n",
       "      <td>Behr, Mr. Karl Howell</td>\n",
       "      <td>1</td>\n",
       "      <td>-0.254646</td>\n",
       "      <td>0</td>\n",
       "      <td>0</td>\n",
       "      <td>111369</td>\n",
       "      <td>30</td>\n",
       "      <td>2</td>\n",
       "    </tr>\n",
       "    <tr>\n",
       "      <th>890</th>\n",
       "      <td>891</td>\n",
       "      <td>0</td>\n",
       "      <td>3</td>\n",
       "      <td>Dooley, Mr. Patrick</td>\n",
       "      <td>1</td>\n",
       "      <td>0.158392</td>\n",
       "      <td>0</td>\n",
       "      <td>0</td>\n",
       "      <td>370376</td>\n",
       "      <td>7</td>\n",
       "      <td>3</td>\n",
       "    </tr>\n",
       "  </tbody>\n",
       "</table>\n",
       "<p>714 rows × 11 columns</p>\n",
       "</div>"
      ],
      "text/plain": [
       "     PassengerId  Survived  Pclass  \\\n",
       "0              1         0       3   \n",
       "1              2         1       1   \n",
       "2              3         1       3   \n",
       "3              4         1       1   \n",
       "4              5         0       3   \n",
       "..           ...       ...     ...   \n",
       "885          886         0       3   \n",
       "886          887         0       2   \n",
       "887          888         1       1   \n",
       "889          890         1       1   \n",
       "890          891         0       3   \n",
       "\n",
       "                                                  Name  Sex       Age  SibSp  \\\n",
       "0                              Braund, Mr. Owen Harris    1 -0.530005      1   \n",
       "1    Cumings, Mrs. John Bradley (Florence Briggs Th...    2  0.571430      1   \n",
       "2                               Heikkinen, Miss. Laina    2 -0.254646      0   \n",
       "3         Futrelle, Mrs. Jacques Heath (Lily May Peel)    2  0.364911      1   \n",
       "4                             Allen, Mr. William Henry    1  0.364911      0   \n",
       "..                                                 ...  ...       ...    ...   \n",
       "885               Rice, Mrs. William (Margaret Norton)    2  0.640270      0   \n",
       "886                              Montvila, Rev. Juozas    1 -0.185807      0   \n",
       "887                       Graham, Miss. Margaret Edith    2 -0.736524      0   \n",
       "889                              Behr, Mr. Karl Howell    1 -0.254646      0   \n",
       "890                                Dooley, Mr. Patrick    1  0.158392      0   \n",
       "\n",
       "     Parch            Ticket  Fare  Embarked  \n",
       "0        0         A/5 21171     7         1  \n",
       "1        0          PC 17599    71         2  \n",
       "2        0  STON/O2. 3101282     7         1  \n",
       "3        0            113803    53         1  \n",
       "4        0            373450     8         1  \n",
       "..     ...               ...   ...       ...  \n",
       "885      5            382652    29         3  \n",
       "886      0            211536    13         1  \n",
       "887      0            112053    30         1  \n",
       "889      0            111369    30         2  \n",
       "890      0            370376     7         3  \n",
       "\n",
       "[714 rows x 11 columns]"
      ]
     },
     "execution_count": 37,
     "metadata": {},
     "output_type": "execute_result"
    }
   ],
   "source": [
    "df_Age_train = train_data.loc[pd.notna(train_data.Age)]\n",
    "df_Age_train.Age = df_Age_train.Age.astype(\"float64\")\n",
    "df_Age_train.Age = (df_Age_train.Age - df_Age_train.Age.mean()) / df_Age_train.Age.std()\n",
    "df_Age_train"
   ]
  },
  {
   "cell_type": "code",
   "execution_count": 38,
   "id": "6139c8ec",
   "metadata": {
    "execution": {
     "iopub.execute_input": "2021-07-29T18:26:09.239149Z",
     "iopub.status.busy": "2021-07-29T18:26:09.238469Z",
     "iopub.status.idle": "2021-07-29T18:26:09.255754Z",
     "shell.execute_reply": "2021-07-29T18:26:09.256228Z",
     "shell.execute_reply.started": "2021-07-29T18:15:36.496475Z"
    },
    "papermill": {
     "duration": 0.085299,
     "end_time": "2021-07-29T18:26:09.256428",
     "exception": false,
     "start_time": "2021-07-29T18:26:09.171129",
     "status": "completed"
    },
    "tags": []
   },
   "outputs": [
    {
     "data": {
      "text/html": [
       "<div>\n",
       "<style scoped>\n",
       "    .dataframe tbody tr th:only-of-type {\n",
       "        vertical-align: middle;\n",
       "    }\n",
       "\n",
       "    .dataframe tbody tr th {\n",
       "        vertical-align: top;\n",
       "    }\n",
       "\n",
       "    .dataframe thead th {\n",
       "        text-align: right;\n",
       "    }\n",
       "</style>\n",
       "<table border=\"1\" class=\"dataframe\">\n",
       "  <thead>\n",
       "    <tr style=\"text-align: right;\">\n",
       "      <th></th>\n",
       "      <th>PassengerId</th>\n",
       "      <th>Survived</th>\n",
       "      <th>Pclass</th>\n",
       "      <th>Name</th>\n",
       "      <th>Sex</th>\n",
       "      <th>SibSp</th>\n",
       "      <th>Parch</th>\n",
       "      <th>Ticket</th>\n",
       "      <th>Fare</th>\n",
       "      <th>Embarked</th>\n",
       "    </tr>\n",
       "  </thead>\n",
       "  <tbody>\n",
       "    <tr>\n",
       "      <th>0</th>\n",
       "      <td>1</td>\n",
       "      <td>0</td>\n",
       "      <td>3</td>\n",
       "      <td>Braund, Mr. Owen Harris</td>\n",
       "      <td>1</td>\n",
       "      <td>1</td>\n",
       "      <td>0</td>\n",
       "      <td>A/5 21171</td>\n",
       "      <td>7</td>\n",
       "      <td>1</td>\n",
       "    </tr>\n",
       "    <tr>\n",
       "      <th>1</th>\n",
       "      <td>2</td>\n",
       "      <td>1</td>\n",
       "      <td>1</td>\n",
       "      <td>Cumings, Mrs. John Bradley (Florence Briggs Th...</td>\n",
       "      <td>2</td>\n",
       "      <td>1</td>\n",
       "      <td>0</td>\n",
       "      <td>PC 17599</td>\n",
       "      <td>71</td>\n",
       "      <td>2</td>\n",
       "    </tr>\n",
       "    <tr>\n",
       "      <th>2</th>\n",
       "      <td>3</td>\n",
       "      <td>1</td>\n",
       "      <td>3</td>\n",
       "      <td>Heikkinen, Miss. Laina</td>\n",
       "      <td>2</td>\n",
       "      <td>0</td>\n",
       "      <td>0</td>\n",
       "      <td>STON/O2. 3101282</td>\n",
       "      <td>7</td>\n",
       "      <td>1</td>\n",
       "    </tr>\n",
       "    <tr>\n",
       "      <th>3</th>\n",
       "      <td>4</td>\n",
       "      <td>1</td>\n",
       "      <td>1</td>\n",
       "      <td>Futrelle, Mrs. Jacques Heath (Lily May Peel)</td>\n",
       "      <td>2</td>\n",
       "      <td>1</td>\n",
       "      <td>0</td>\n",
       "      <td>113803</td>\n",
       "      <td>53</td>\n",
       "      <td>1</td>\n",
       "    </tr>\n",
       "    <tr>\n",
       "      <th>4</th>\n",
       "      <td>5</td>\n",
       "      <td>0</td>\n",
       "      <td>3</td>\n",
       "      <td>Allen, Mr. William Henry</td>\n",
       "      <td>1</td>\n",
       "      <td>0</td>\n",
       "      <td>0</td>\n",
       "      <td>373450</td>\n",
       "      <td>8</td>\n",
       "      <td>1</td>\n",
       "    </tr>\n",
       "  </tbody>\n",
       "</table>\n",
       "</div>"
      ],
      "text/plain": [
       "   PassengerId  Survived  Pclass  \\\n",
       "0            1         0       3   \n",
       "1            2         1       1   \n",
       "2            3         1       3   \n",
       "3            4         1       1   \n",
       "4            5         0       3   \n",
       "\n",
       "                                                Name  Sex  SibSp  Parch  \\\n",
       "0                            Braund, Mr. Owen Harris    1      1      0   \n",
       "1  Cumings, Mrs. John Bradley (Florence Briggs Th...    2      1      0   \n",
       "2                             Heikkinen, Miss. Laina    2      0      0   \n",
       "3       Futrelle, Mrs. Jacques Heath (Lily May Peel)    2      1      0   \n",
       "4                           Allen, Mr. William Henry    1      0      0   \n",
       "\n",
       "             Ticket  Fare  Embarked  \n",
       "0         A/5 21171     7         1  \n",
       "1          PC 17599    71         2  \n",
       "2  STON/O2. 3101282     7         1  \n",
       "3            113803    53         1  \n",
       "4            373450     8         1  "
      ]
     },
     "execution_count": 38,
     "metadata": {},
     "output_type": "execute_result"
    }
   ],
   "source": [
    "train_data.drop(\"Age\", axis=1, inplace=True)\n",
    "testData_data.drop(\"Age\", axis=1, inplace=True)\n",
    "train_data.head()"
   ]
  },
  {
   "cell_type": "code",
   "execution_count": 39,
   "id": "df2c25a5",
   "metadata": {
    "execution": {
     "iopub.execute_input": "2021-07-29T18:26:09.386430Z",
     "iopub.status.busy": "2021-07-29T18:26:09.385782Z",
     "iopub.status.idle": "2021-07-29T18:26:09.403432Z",
     "shell.execute_reply": "2021-07-29T18:26:09.402706Z",
     "shell.execute_reply.started": "2021-07-29T18:15:36.521624Z"
    },
    "papermill": {
     "duration": 0.083696,
     "end_time": "2021-07-29T18:26:09.403596",
     "exception": false,
     "start_time": "2021-07-29T18:26:09.319900",
     "status": "completed"
    },
    "tags": []
   },
   "outputs": [
    {
     "data": {
      "text/plain": [
       "[1, 2, 6, 3, 5, 11, 4]\n",
       "Categories (7, int64): [1 < 2 < 3 < 4 < 5 < 6 < 11]"
      ]
     },
     "execution_count": 39,
     "metadata": {},
     "output_type": "execute_result"
    }
   ],
   "source": [
    "bins_i = [-1, 50, 100, 150, 200, 250, 300, 350, 400, 450, 500, 550]\n",
    "labels_i = [1,2,3,4,5,6,7,8,9,10,11]\n",
    "\n",
    "train_data['stage'] = 0\n",
    "train_data['stage'] = pd.cut(train_data.Fare, bins=bins_i, labels=labels_i)\n",
    "\n",
    "testData_data['stage'] = 0\n",
    "testData_data['stage'] = pd.cut(testData_data.Fare, bins=bins_i, labels=labels_i)\n",
    "\n",
    "train_data.stage.unique()"
   ]
  },
  {
   "cell_type": "code",
   "execution_count": 40,
   "id": "24ce6359",
   "metadata": {
    "execution": {
     "iopub.execute_input": "2021-07-29T18:26:09.542002Z",
     "iopub.status.busy": "2021-07-29T18:26:09.541299Z",
     "iopub.status.idle": "2021-07-29T18:26:09.543150Z",
     "shell.execute_reply": "2021-07-29T18:26:09.543659Z",
     "shell.execute_reply.started": "2021-07-29T18:15:36.54363Z"
    },
    "papermill": {
     "duration": 0.076209,
     "end_time": "2021-07-29T18:26:09.543858",
     "exception": false,
     "start_time": "2021-07-29T18:26:09.467649",
     "status": "completed"
    },
    "tags": []
   },
   "outputs": [],
   "source": [
    "train_data.Fare = train_data.stage.astype(\"int64\")\n",
    "testData_data.Fare = testData_data.stage.astype(\"int64\")\n",
    "train_data.drop(\"stage\", axis=1, inplace=True)\n",
    "testData_data.drop(\"stage\", axis=1, inplace=True)"
   ]
  },
  {
   "cell_type": "code",
   "execution_count": 41,
   "id": "60f70aca",
   "metadata": {
    "execution": {
     "iopub.execute_input": "2021-07-29T18:26:09.678289Z",
     "iopub.status.busy": "2021-07-29T18:26:09.677547Z",
     "iopub.status.idle": "2021-07-29T18:26:09.691264Z",
     "shell.execute_reply": "2021-07-29T18:26:09.691758Z",
     "shell.execute_reply.started": "2021-07-29T18:15:36.55841Z"
    },
    "papermill": {
     "duration": 0.082,
     "end_time": "2021-07-29T18:26:09.691973",
     "exception": false,
     "start_time": "2021-07-29T18:26:09.609973",
     "status": "completed"
    },
    "tags": []
   },
   "outputs": [
    {
     "data": {
      "text/html": [
       "<div>\n",
       "<style scoped>\n",
       "    .dataframe tbody tr th:only-of-type {\n",
       "        vertical-align: middle;\n",
       "    }\n",
       "\n",
       "    .dataframe tbody tr th {\n",
       "        vertical-align: top;\n",
       "    }\n",
       "\n",
       "    .dataframe thead th {\n",
       "        text-align: right;\n",
       "    }\n",
       "</style>\n",
       "<table border=\"1\" class=\"dataframe\">\n",
       "  <thead>\n",
       "    <tr style=\"text-align: right;\">\n",
       "      <th></th>\n",
       "      <th>PassengerId</th>\n",
       "      <th>Survived</th>\n",
       "      <th>Pclass</th>\n",
       "      <th>Name</th>\n",
       "      <th>Sex</th>\n",
       "      <th>SibSp</th>\n",
       "      <th>Parch</th>\n",
       "      <th>Ticket</th>\n",
       "      <th>Fare</th>\n",
       "      <th>Embarked</th>\n",
       "    </tr>\n",
       "  </thead>\n",
       "  <tbody>\n",
       "    <tr>\n",
       "      <th>0</th>\n",
       "      <td>1</td>\n",
       "      <td>0</td>\n",
       "      <td>3</td>\n",
       "      <td>Braund, Mr. Owen Harris</td>\n",
       "      <td>1</td>\n",
       "      <td>1</td>\n",
       "      <td>0</td>\n",
       "      <td>A/5 21171</td>\n",
       "      <td>1</td>\n",
       "      <td>1</td>\n",
       "    </tr>\n",
       "    <tr>\n",
       "      <th>1</th>\n",
       "      <td>2</td>\n",
       "      <td>1</td>\n",
       "      <td>1</td>\n",
       "      <td>Cumings, Mrs. John Bradley (Florence Briggs Th...</td>\n",
       "      <td>2</td>\n",
       "      <td>1</td>\n",
       "      <td>0</td>\n",
       "      <td>PC 17599</td>\n",
       "      <td>2</td>\n",
       "      <td>2</td>\n",
       "    </tr>\n",
       "    <tr>\n",
       "      <th>2</th>\n",
       "      <td>3</td>\n",
       "      <td>1</td>\n",
       "      <td>3</td>\n",
       "      <td>Heikkinen, Miss. Laina</td>\n",
       "      <td>2</td>\n",
       "      <td>0</td>\n",
       "      <td>0</td>\n",
       "      <td>STON/O2. 3101282</td>\n",
       "      <td>1</td>\n",
       "      <td>1</td>\n",
       "    </tr>\n",
       "    <tr>\n",
       "      <th>3</th>\n",
       "      <td>4</td>\n",
       "      <td>1</td>\n",
       "      <td>1</td>\n",
       "      <td>Futrelle, Mrs. Jacques Heath (Lily May Peel)</td>\n",
       "      <td>2</td>\n",
       "      <td>1</td>\n",
       "      <td>0</td>\n",
       "      <td>113803</td>\n",
       "      <td>2</td>\n",
       "      <td>1</td>\n",
       "    </tr>\n",
       "    <tr>\n",
       "      <th>4</th>\n",
       "      <td>5</td>\n",
       "      <td>0</td>\n",
       "      <td>3</td>\n",
       "      <td>Allen, Mr. William Henry</td>\n",
       "      <td>1</td>\n",
       "      <td>0</td>\n",
       "      <td>0</td>\n",
       "      <td>373450</td>\n",
       "      <td>1</td>\n",
       "      <td>1</td>\n",
       "    </tr>\n",
       "  </tbody>\n",
       "</table>\n",
       "</div>"
      ],
      "text/plain": [
       "   PassengerId  Survived  Pclass  \\\n",
       "0            1         0       3   \n",
       "1            2         1       1   \n",
       "2            3         1       3   \n",
       "3            4         1       1   \n",
       "4            5         0       3   \n",
       "\n",
       "                                                Name  Sex  SibSp  Parch  \\\n",
       "0                            Braund, Mr. Owen Harris    1      1      0   \n",
       "1  Cumings, Mrs. John Bradley (Florence Briggs Th...    2      1      0   \n",
       "2                             Heikkinen, Miss. Laina    2      0      0   \n",
       "3       Futrelle, Mrs. Jacques Heath (Lily May Peel)    2      1      0   \n",
       "4                           Allen, Mr. William Henry    1      0      0   \n",
       "\n",
       "             Ticket  Fare  Embarked  \n",
       "0         A/5 21171     1         1  \n",
       "1          PC 17599     2         2  \n",
       "2  STON/O2. 3101282     1         1  \n",
       "3            113803     2         1  \n",
       "4            373450     1         1  "
      ]
     },
     "execution_count": 41,
     "metadata": {},
     "output_type": "execute_result"
    }
   ],
   "source": [
    "train_data.head()"
   ]
  },
  {
   "cell_type": "code",
   "execution_count": 42,
   "id": "760839b9",
   "metadata": {
    "execution": {
     "iopub.execute_input": "2021-07-29T18:26:09.825345Z",
     "iopub.status.busy": "2021-07-29T18:26:09.824618Z",
     "iopub.status.idle": "2021-07-29T18:26:09.831875Z",
     "shell.execute_reply": "2021-07-29T18:26:09.832455Z",
     "shell.execute_reply.started": "2021-07-29T18:15:36.585517Z"
    },
    "papermill": {
     "duration": 0.076488,
     "end_time": "2021-07-29T18:26:09.832895",
     "exception": false,
     "start_time": "2021-07-29T18:26:09.756407",
     "status": "completed"
    },
    "tags": []
   },
   "outputs": [],
   "source": [
    "data = [train_data, testData_data]\n",
    "for dataset in data:\n",
    "    dataset['FamilySize'] = dataset['SibSp'] +  dataset['Parch'] + 1"
   ]
  },
  {
   "cell_type": "code",
   "execution_count": 43,
   "id": "5c6549c9",
   "metadata": {
    "execution": {
     "iopub.execute_input": "2021-07-29T18:26:09.965296Z",
     "iopub.status.busy": "2021-07-29T18:26:09.964620Z",
     "iopub.status.idle": "2021-07-29T18:26:09.980356Z",
     "shell.execute_reply": "2021-07-29T18:26:09.980887Z",
     "shell.execute_reply.started": "2021-07-29T18:15:36.599237Z"
    },
    "papermill": {
     "duration": 0.083665,
     "end_time": "2021-07-29T18:26:09.981148",
     "exception": false,
     "start_time": "2021-07-29T18:26:09.897483",
     "status": "completed"
    },
    "tags": []
   },
   "outputs": [
    {
     "name": "stdout",
     "output_type": "stream",
     "text": [
      "   IsAlone  Survived\n",
      "0        0  0.505650\n",
      "1        1  0.303538\n"
     ]
    }
   ],
   "source": [
    "for dataset in data:\n",
    "    dataset['IsAlone'] = 0\n",
    "    dataset.loc[dataset['FamilySize'] == 1, 'IsAlone'] = 1\n",
    "\n",
    "print (train_data[['IsAlone', 'Survived']].groupby(['IsAlone'], as_index=False).mean())"
   ]
  },
  {
   "cell_type": "code",
   "execution_count": 44,
   "id": "1042d25c",
   "metadata": {
    "execution": {
     "iopub.execute_input": "2021-07-29T18:26:10.122121Z",
     "iopub.status.busy": "2021-07-29T18:26:10.121116Z",
     "iopub.status.idle": "2021-07-29T18:26:10.125711Z",
     "shell.execute_reply": "2021-07-29T18:26:10.125006Z",
     "shell.execute_reply.started": "2021-07-29T18:15:36.622979Z"
    },
    "papermill": {
     "duration": 0.079587,
     "end_time": "2021-07-29T18:26:10.125864",
     "exception": false,
     "start_time": "2021-07-29T18:26:10.046277",
     "status": "completed"
    },
    "tags": []
   },
   "outputs": [
    {
     "data": {
      "text/plain": [
       "891"
      ]
     },
     "execution_count": 44,
     "metadata": {},
     "output_type": "execute_result"
    }
   ],
   "source": [
    "columns = [\"Pclass\",\"Sex\", \"Fare\", \"Embarked\",\"IsAlone\"]\n",
    "X_train = train_data[columns]\n",
    "Y_train = train_data[\"Survived\"]\n",
    "len(Y_train)\n"
   ]
  },
  {
   "cell_type": "code",
   "execution_count": 45,
   "id": "6d5672dd",
   "metadata": {
    "execution": {
     "iopub.execute_input": "2021-07-29T18:26:10.268529Z",
     "iopub.status.busy": "2021-07-29T18:26:10.267613Z",
     "iopub.status.idle": "2021-07-29T18:26:10.271374Z",
     "shell.execute_reply": "2021-07-29T18:26:10.271915Z",
     "shell.execute_reply.started": "2021-07-29T18:15:36.635991Z"
    },
    "papermill": {
     "duration": 0.077574,
     "end_time": "2021-07-29T18:26:10.272123",
     "exception": false,
     "start_time": "2021-07-29T18:26:10.194549",
     "status": "completed"
    },
    "tags": []
   },
   "outputs": [
    {
     "data": {
      "text/plain": [
       "418"
      ]
     },
     "execution_count": 45,
     "metadata": {},
     "output_type": "execute_result"
    }
   ],
   "source": [
    "X_test = testData_data[columns]\n",
    "len(X_test)"
   ]
  },
  {
   "cell_type": "code",
   "execution_count": 46,
   "id": "c5b85d26",
   "metadata": {
    "execution": {
     "iopub.execute_input": "2021-07-29T18:26:10.412178Z",
     "iopub.status.busy": "2021-07-29T18:26:10.411185Z",
     "iopub.status.idle": "2021-07-29T18:26:10.416064Z",
     "shell.execute_reply": "2021-07-29T18:26:10.415515Z",
     "shell.execute_reply.started": "2021-07-29T18:15:36.655261Z"
    },
    "papermill": {
     "duration": 0.078599,
     "end_time": "2021-07-29T18:26:10.416218",
     "exception": false,
     "start_time": "2021-07-29T18:26:10.337619",
     "status": "completed"
    },
    "tags": []
   },
   "outputs": [
    {
     "data": {
      "text/plain": [
       "418"
      ]
     },
     "execution_count": 46,
     "metadata": {},
     "output_type": "execute_result"
    }
   ],
   "source": [
    "Y_test =testData_data[columns]\n",
    "len(Y_test)"
   ]
  },
  {
   "cell_type": "markdown",
   "id": "61d51b43",
   "metadata": {
    "papermill": {
     "duration": 0.065586,
     "end_time": "2021-07-29T18:26:10.547839",
     "exception": false,
     "start_time": "2021-07-29T18:26:10.482253",
     "status": "completed"
    },
    "tags": []
   },
   "source": [
    "# Predictions"
   ]
  },
  {
   "cell_type": "markdown",
   "id": "c41f2a28",
   "metadata": {
    "papermill": {
     "duration": 0.065651,
     "end_time": "2021-07-29T18:26:10.679445",
     "exception": false,
     "start_time": "2021-07-29T18:26:10.613794",
     "status": "completed"
    },
    "tags": []
   },
   "source": [
    "# Random Forest"
   ]
  },
  {
   "cell_type": "code",
   "execution_count": 47,
   "id": "19574f67",
   "metadata": {
    "execution": {
     "iopub.execute_input": "2021-07-29T18:26:10.826465Z",
     "iopub.status.busy": "2021-07-29T18:26:10.821108Z",
     "iopub.status.idle": "2021-07-29T18:26:11.169199Z",
     "shell.execute_reply": "2021-07-29T18:26:11.168092Z",
     "shell.execute_reply.started": "2021-07-29T18:15:36.674077Z"
    },
    "papermill": {
     "duration": 0.423849,
     "end_time": "2021-07-29T18:26:11.169379",
     "exception": false,
     "start_time": "2021-07-29T18:26:10.745530",
     "status": "completed"
    },
    "tags": []
   },
   "outputs": [
    {
     "name": "stdout",
     "output_type": "stream",
     "text": [
      "the train score of random_forest =  82.27 %\n"
     ]
    }
   ],
   "source": [
    "random_forest = RandomForestClassifier(n_estimators=40, min_samples_leaf=2, max_features=0.1, n_jobs=-1)\n",
    "random_forest.fit(X_train, Y_train)\n",
    "Y_pred_Random = random_forest.predict(X_test)\n",
    "print(\"the train score of random_forest = \",round(random_forest.score(X_train, Y_train) *100, 2),\"%\")"
   ]
  },
  {
   "cell_type": "markdown",
   "id": "9e8b6470",
   "metadata": {
    "papermill": {
     "duration": 0.079192,
     "end_time": "2021-07-29T18:26:11.331752",
     "exception": false,
     "start_time": "2021-07-29T18:26:11.252560",
     "status": "completed"
    },
    "tags": []
   },
   "source": [
    "# Logistic Regression"
   ]
  },
  {
   "cell_type": "code",
   "execution_count": 48,
   "id": "93134489",
   "metadata": {
    "execution": {
     "iopub.execute_input": "2021-07-29T18:26:11.473190Z",
     "iopub.status.busy": "2021-07-29T18:26:11.472467Z",
     "iopub.status.idle": "2021-07-29T18:26:11.615166Z",
     "shell.execute_reply": "2021-07-29T18:26:11.615734Z",
     "shell.execute_reply.started": "2021-07-29T18:15:37.031801Z"
    },
    "papermill": {
     "duration": 0.217799,
     "end_time": "2021-07-29T18:26:11.615916",
     "exception": false,
     "start_time": "2021-07-29T18:26:11.398117",
     "status": "completed"
    },
    "tags": []
   },
   "outputs": [
    {
     "name": "stdout",
     "output_type": "stream",
     "text": [
      "the train score of logistic_regression =  78.56 %\n"
     ]
    }
   ],
   "source": [
    "logistic_regression = LogisticRegression(solver='liblinear',max_iter=1000)\n",
    "logistic_regression.fit(X_train, Y_train)\n",
    "Y_pred_Logistic = logistic_regression.predict(X_test)\n",
    "print(\"the train score of logistic_regression = \",round(logistic_regression.score(X_train, Y_train) *100, 2),\"%\")"
   ]
  },
  {
   "cell_type": "code",
   "execution_count": 49,
   "id": "1c6d067d",
   "metadata": {
    "execution": {
     "iopub.execute_input": "2021-07-29T18:26:11.752008Z",
     "iopub.status.busy": "2021-07-29T18:26:11.751384Z",
     "iopub.status.idle": "2021-07-29T18:26:11.765697Z",
     "shell.execute_reply": "2021-07-29T18:26:11.766171Z",
     "shell.execute_reply.started": "2021-07-29T18:15:37.059947Z"
    },
    "papermill": {
     "duration": 0.084407,
     "end_time": "2021-07-29T18:26:11.766371",
     "exception": false,
     "start_time": "2021-07-29T18:26:11.681964",
     "status": "completed"
    },
    "tags": []
   },
   "outputs": [
    {
     "name": "stdout",
     "output_type": "stream",
     "text": [
      "the score of prediction =  82.49 %\n"
     ]
    }
   ],
   "source": [
    "tree = DecisionTreeClassifier(random_state=25)\n",
    "tree.fit(X_train, Y_train)\n",
    "Y_pred_Tree= tree.predict(X_test)\n",
    "print(\"the score of prediction = \",round(tree.score(X_train, Y_train) * 100,2), \"%\")"
   ]
  },
  {
   "cell_type": "code",
   "execution_count": 50,
   "id": "a409da71",
   "metadata": {
    "execution": {
     "iopub.execute_input": "2021-07-29T18:26:11.908786Z",
     "iopub.status.busy": "2021-07-29T18:26:11.907685Z",
     "iopub.status.idle": "2021-07-29T18:26:12.492869Z",
     "shell.execute_reply": "2021-07-29T18:26:12.492288Z",
     "shell.execute_reply.started": "2021-07-29T18:15:37.076945Z"
    },
    "papermill": {
     "duration": 0.658136,
     "end_time": "2021-07-29T18:26:12.493042",
     "exception": false,
     "start_time": "2021-07-29T18:26:11.834906",
     "status": "completed"
    },
    "tags": []
   },
   "outputs": [
    {
     "data": {
      "text/plain": [
       "0.8136111111111112"
      ]
     },
     "execution_count": 50,
     "metadata": {},
     "output_type": "execute_result"
    }
   ],
   "source": [
    "scores= cross_val_score(tree, X_train, Y_train, scoring=\"accuracy\", cv=100)\n",
    "scores.mean()"
   ]
  },
  {
   "cell_type": "code",
   "execution_count": 51,
   "id": "bfc171ec",
   "metadata": {
    "execution": {
     "iopub.execute_input": "2021-07-29T18:26:12.640424Z",
     "iopub.status.busy": "2021-07-29T18:26:12.639741Z",
     "iopub.status.idle": "2021-07-29T18:26:12.705561Z",
     "shell.execute_reply": "2021-07-29T18:26:12.704991Z",
     "shell.execute_reply.started": "2021-07-29T18:15:37.684106Z"
    },
    "papermill": {
     "duration": 0.145528,
     "end_time": "2021-07-29T18:26:12.705720",
     "exception": false,
     "start_time": "2021-07-29T18:26:12.560192",
     "status": "completed"
    },
    "tags": []
   },
   "outputs": [
    {
     "name": "stdout",
     "output_type": "stream",
     "text": [
      "the score of prediction =  80.81 %\n"
     ]
    }
   ],
   "source": [
    "knn = KNeighborsClassifier(n_neighbors=5)\n",
    "knn.fit(X_train, Y_train)\n",
    "Y_pred_KNN= knn.predict(X_test)\n",
    "print(\"the score of prediction = \",round(knn.score(X_train, Y_train) * 100,2), \"%\")"
   ]
  },
  {
   "cell_type": "code",
   "execution_count": 52,
   "id": "c876de85",
   "metadata": {
    "execution": {
     "iopub.execute_input": "2021-07-29T18:26:12.844437Z",
     "iopub.status.busy": "2021-07-29T18:26:12.843495Z",
     "iopub.status.idle": "2021-07-29T18:26:12.854367Z",
     "shell.execute_reply": "2021-07-29T18:26:12.854876Z",
     "shell.execute_reply.started": "2021-07-29T18:18:06.411088Z"
    },
    "papermill": {
     "duration": 0.082043,
     "end_time": "2021-07-29T18:26:12.855111",
     "exception": false,
     "start_time": "2021-07-29T18:26:12.773068",
     "status": "completed"
    },
    "tags": []
   },
   "outputs": [],
   "source": [
    "submission = pd.DataFrame({\n",
    "        \"PassengerId\": testData_data[\"PassengerId\"],\n",
    "        \"Survived\": Y_pred_KNN\n",
    "    })\n",
    "submission.to_csv('./submission.csv', index=False)"
   ]
  }
 ],
 "metadata": {
  "kernelspec": {
   "display_name": "Python 3",
   "language": "python",
   "name": "python3"
  },
  "language_info": {
   "codemirror_mode": {
    "name": "ipython",
    "version": 3
   },
   "file_extension": ".py",
   "mimetype": "text/x-python",
   "name": "python",
   "nbconvert_exporter": "python",
   "pygments_lexer": "ipython3",
   "version": "3.7.10"
  },
  "papermill": {
   "default_parameters": {},
   "duration": 22.98351,
   "end_time": "2021-07-29T18:26:14.841106",
   "environment_variables": {},
   "exception": null,
   "input_path": "__notebook__.ipynb",
   "output_path": "__notebook__.ipynb",
   "parameters": {},
   "start_time": "2021-07-29T18:25:51.857596",
   "version": "2.3.3"
  }
 },
 "nbformat": 4,
 "nbformat_minor": 5
}
